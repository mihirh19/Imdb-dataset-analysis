{
 "cells": [
  {
   "cell_type": "markdown",
   "source": [
    "Dataset : '/movies.sqlite'"
   ],
   "metadata": {
    "collapsed": false
   }
  },
  {
   "cell_type": "markdown",
   "source": [
    "# importing the library"
   ],
   "metadata": {
    "collapsed": false
   }
  },
  {
   "cell_type": "code",
   "execution_count": 2,
   "outputs": [],
   "source": [
    "import numpy as np\n",
    "import pandas as pd\n",
    "import matplotlib.pyplot as plt\n",
    "import seaborn as sns\n",
    "import sqlite3"
   ],
   "metadata": {
    "collapsed": false,
    "ExecuteTime": {
     "end_time": "2023-06-26T13:33:18.199374Z",
     "start_time": "2023-06-26T13:33:18.146128400Z"
    }
   }
  },
  {
   "cell_type": "markdown",
   "source": [
    "1. connect your database -> sqlite3.connect(database)\n",
    "2. use the cursor function -> database_variable.cursor()\n",
    "\n",
    "\n",
    "Workflow\n",
    "1. you need to establish a connection to sqlite database\n",
    "2. then, you have to create a cursor object using the cursor function\n",
    "3. then, execute the query -> cursor_object.execute('query')\n",
    "4. to fetch the data from the database the use fetchall() of cursor object"
   ],
   "metadata": {
    "collapsed": false
   }
  },
  {
   "cell_type": "markdown",
   "source": [
    "1. establish a connection to sqlite database"
   ],
   "metadata": {
    "collapsed": false
   }
  },
  {
   "cell_type": "code",
   "execution_count": 8,
   "outputs": [],
   "source": [
    "db = 'movie.sqlite'\n",
    "\n",
    "conn = sqlite3.connect(db)\n",
    "cur = conn.cursor()\n",
    "\n"
   ],
   "metadata": {
    "collapsed": false,
    "ExecuteTime": {
     "end_time": "2023-06-26T13:42:41.488157600Z",
     "start_time": "2023-06-26T13:42:41.464429100Z"
    }
   }
  },
  {
   "cell_type": "markdown",
   "source": [
    "2. get all the data aboyut the movies?"
   ],
   "metadata": {
    "collapsed": false
   }
  },
  {
   "cell_type": "code",
   "execution_count": 10,
   "outputs": [],
   "source": [
    "cur.execute(\"SELECT * FROM movies\")\n",
    "movies = cur.fetchall()"
   ],
   "metadata": {
    "collapsed": false,
    "ExecuteTime": {
     "end_time": "2023-06-26T13:42:53.075607600Z",
     "start_time": "2023-06-26T13:42:53.009528200Z"
    }
   }
  },
  {
   "cell_type": "code",
   "execution_count": 12,
   "outputs": [],
   "source": [
    "df = pd.DataFrame(movies)"
   ],
   "metadata": {
    "collapsed": false,
    "ExecuteTime": {
     "end_time": "2023-06-26T13:43:28.329413800Z",
     "start_time": "2023-06-26T13:43:28.295428400Z"
    }
   }
  },
  {
   "cell_type": "code",
   "execution_count": 13,
   "outputs": [
    {
     "data": {
      "text/plain": "         0                                         1          2    3    \n0     43597                                    Avatar  237000000  150  \\\n1     43598  Pirates of the Caribbean: At World's End  300000000  139   \n2     43599                                   Spectre  245000000  107   \n3     43600                     The Dark Knight Rises  250000000  112   \n4     43601                               John Carter  260000000   43   \n...     ...                                       ...        ...  ...   \n4768  48395                               El Mariachi     220000   14   \n4769  48396                                 Newlyweds       9000    0   \n4770  48397                 Signed, Sealed, Delivered          0    1   \n4771  48398                          Shanghai Calling          0    0   \n4772  48399                         My Date with Drew          0    1   \n\n              4           5                                         6    7    \n0     2009-12-10  2787965087                                    Avatar  7.2  \\\n1     2007-05-19   961000000  Pirates of the Caribbean: At World's End  6.9   \n2     2015-10-26   880674609                                   Spectre  6.3   \n3     2012-07-16  1084939099                     The Dark Knight Rises  7.6   \n4     2012-03-07   284139100                               John Carter  6.1   \n...          ...         ...                                       ...  ...   \n4768  1992-09-04     2040920                               El Mariachi  6.6   \n4769  2011-12-26           0                                 Newlyweds  5.9   \n4770  2013-10-13           0                 Signed, Sealed, Delivered  7.0   \n4771  2012-05-03           0                          Shanghai Calling  5.7   \n4772  2005-08-05           0                         My Date with Drew  6.3   \n\n         8                                                  9    \n0     11800  In the 22nd century, a paraplegic Marine is di...  \\\n1      4500  Captain Barbossa, long believed to be dead, ha...   \n2      4466  A cryptic message from Bond’s past sends him o...   \n3      9106  Following the death of District Attorney Harve...   \n4      2124  John Carter is a war-weary, former military ca...   \n...     ...                                                ...   \n4768    238  El Mariachi just wants to play his guitar and ...   \n4769      5  A newlywed couple's honeymoon is upended by th...   \n4770      6  \"Signed, Sealed, Delivered\" introduces a dedic...   \n4771      7  When ambitious New York attorney Sam is sent t...   \n4772     16  Ever since the second grade when he first saw ...   \n\n                                                     10      11    12  \n0                           Enter the World of Pandora.   19995  4762  \n1        At the end of the world, the adventure begins.     285  4763  \n2                                 A Plan No One Escapes  206647  4764  \n3                                       The Legend Ends   49026  4765  \n4                  Lost in our world, found in another.   49529  4766  \n...                                                 ...     ...   ...  \n4768  He didn't come looking for trouble, but troubl...    9367  5097  \n4769  A newlywed couple's honeymoon is upended by th...   72766  6485  \n4770                                               None  231617  7108  \n4771                           A New Yorker in Shanghai  126186  7109  \n4772                                               None   25975  7110  \n\n[4773 rows x 13 columns]",
      "text/html": "<div>\n<style scoped>\n    .dataframe tbody tr th:only-of-type {\n        vertical-align: middle;\n    }\n\n    .dataframe tbody tr th {\n        vertical-align: top;\n    }\n\n    .dataframe thead th {\n        text-align: right;\n    }\n</style>\n<table border=\"1\" class=\"dataframe\">\n  <thead>\n    <tr style=\"text-align: right;\">\n      <th></th>\n      <th>0</th>\n      <th>1</th>\n      <th>2</th>\n      <th>3</th>\n      <th>4</th>\n      <th>5</th>\n      <th>6</th>\n      <th>7</th>\n      <th>8</th>\n      <th>9</th>\n      <th>10</th>\n      <th>11</th>\n      <th>12</th>\n    </tr>\n  </thead>\n  <tbody>\n    <tr>\n      <th>0</th>\n      <td>43597</td>\n      <td>Avatar</td>\n      <td>237000000</td>\n      <td>150</td>\n      <td>2009-12-10</td>\n      <td>2787965087</td>\n      <td>Avatar</td>\n      <td>7.2</td>\n      <td>11800</td>\n      <td>In the 22nd century, a paraplegic Marine is di...</td>\n      <td>Enter the World of Pandora.</td>\n      <td>19995</td>\n      <td>4762</td>\n    </tr>\n    <tr>\n      <th>1</th>\n      <td>43598</td>\n      <td>Pirates of the Caribbean: At World's End</td>\n      <td>300000000</td>\n      <td>139</td>\n      <td>2007-05-19</td>\n      <td>961000000</td>\n      <td>Pirates of the Caribbean: At World's End</td>\n      <td>6.9</td>\n      <td>4500</td>\n      <td>Captain Barbossa, long believed to be dead, ha...</td>\n      <td>At the end of the world, the adventure begins.</td>\n      <td>285</td>\n      <td>4763</td>\n    </tr>\n    <tr>\n      <th>2</th>\n      <td>43599</td>\n      <td>Spectre</td>\n      <td>245000000</td>\n      <td>107</td>\n      <td>2015-10-26</td>\n      <td>880674609</td>\n      <td>Spectre</td>\n      <td>6.3</td>\n      <td>4466</td>\n      <td>A cryptic message from Bond’s past sends him o...</td>\n      <td>A Plan No One Escapes</td>\n      <td>206647</td>\n      <td>4764</td>\n    </tr>\n    <tr>\n      <th>3</th>\n      <td>43600</td>\n      <td>The Dark Knight Rises</td>\n      <td>250000000</td>\n      <td>112</td>\n      <td>2012-07-16</td>\n      <td>1084939099</td>\n      <td>The Dark Knight Rises</td>\n      <td>7.6</td>\n      <td>9106</td>\n      <td>Following the death of District Attorney Harve...</td>\n      <td>The Legend Ends</td>\n      <td>49026</td>\n      <td>4765</td>\n    </tr>\n    <tr>\n      <th>4</th>\n      <td>43601</td>\n      <td>John Carter</td>\n      <td>260000000</td>\n      <td>43</td>\n      <td>2012-03-07</td>\n      <td>284139100</td>\n      <td>John Carter</td>\n      <td>6.1</td>\n      <td>2124</td>\n      <td>John Carter is a war-weary, former military ca...</td>\n      <td>Lost in our world, found in another.</td>\n      <td>49529</td>\n      <td>4766</td>\n    </tr>\n    <tr>\n      <th>...</th>\n      <td>...</td>\n      <td>...</td>\n      <td>...</td>\n      <td>...</td>\n      <td>...</td>\n      <td>...</td>\n      <td>...</td>\n      <td>...</td>\n      <td>...</td>\n      <td>...</td>\n      <td>...</td>\n      <td>...</td>\n      <td>...</td>\n    </tr>\n    <tr>\n      <th>4768</th>\n      <td>48395</td>\n      <td>El Mariachi</td>\n      <td>220000</td>\n      <td>14</td>\n      <td>1992-09-04</td>\n      <td>2040920</td>\n      <td>El Mariachi</td>\n      <td>6.6</td>\n      <td>238</td>\n      <td>El Mariachi just wants to play his guitar and ...</td>\n      <td>He didn't come looking for trouble, but troubl...</td>\n      <td>9367</td>\n      <td>5097</td>\n    </tr>\n    <tr>\n      <th>4769</th>\n      <td>48396</td>\n      <td>Newlyweds</td>\n      <td>9000</td>\n      <td>0</td>\n      <td>2011-12-26</td>\n      <td>0</td>\n      <td>Newlyweds</td>\n      <td>5.9</td>\n      <td>5</td>\n      <td>A newlywed couple's honeymoon is upended by th...</td>\n      <td>A newlywed couple's honeymoon is upended by th...</td>\n      <td>72766</td>\n      <td>6485</td>\n    </tr>\n    <tr>\n      <th>4770</th>\n      <td>48397</td>\n      <td>Signed, Sealed, Delivered</td>\n      <td>0</td>\n      <td>1</td>\n      <td>2013-10-13</td>\n      <td>0</td>\n      <td>Signed, Sealed, Delivered</td>\n      <td>7.0</td>\n      <td>6</td>\n      <td>\"Signed, Sealed, Delivered\" introduces a dedic...</td>\n      <td>None</td>\n      <td>231617</td>\n      <td>7108</td>\n    </tr>\n    <tr>\n      <th>4771</th>\n      <td>48398</td>\n      <td>Shanghai Calling</td>\n      <td>0</td>\n      <td>0</td>\n      <td>2012-05-03</td>\n      <td>0</td>\n      <td>Shanghai Calling</td>\n      <td>5.7</td>\n      <td>7</td>\n      <td>When ambitious New York attorney Sam is sent t...</td>\n      <td>A New Yorker in Shanghai</td>\n      <td>126186</td>\n      <td>7109</td>\n    </tr>\n    <tr>\n      <th>4772</th>\n      <td>48399</td>\n      <td>My Date with Drew</td>\n      <td>0</td>\n      <td>1</td>\n      <td>2005-08-05</td>\n      <td>0</td>\n      <td>My Date with Drew</td>\n      <td>6.3</td>\n      <td>16</td>\n      <td>Ever since the second grade when he first saw ...</td>\n      <td>None</td>\n      <td>25975</td>\n      <td>7110</td>\n    </tr>\n  </tbody>\n</table>\n<p>4773 rows × 13 columns</p>\n</div>"
     },
     "execution_count": 13,
     "metadata": {},
     "output_type": "execute_result"
    }
   ],
   "source": [
    "df"
   ],
   "metadata": {
    "collapsed": false,
    "ExecuteTime": {
     "end_time": "2023-06-26T13:43:30.177185500Z",
     "start_time": "2023-06-26T13:43:30.005774800Z"
    }
   }
  },
  {
   "cell_type": "code",
   "execution_count": null,
   "outputs": [],
   "source": [],
   "metadata": {
    "collapsed": false
   }
  }
 ],
 "metadata": {
  "kernelspec": {
   "display_name": "Python 3",
   "language": "python",
   "name": "python3"
  },
  "language_info": {
   "codemirror_mode": {
    "name": "ipython",
    "version": 2
   },
   "file_extension": ".py",
   "mimetype": "text/x-python",
   "name": "python",
   "nbconvert_exporter": "python",
   "pygments_lexer": "ipython2",
   "version": "2.7.6"
  }
 },
 "nbformat": 4,
 "nbformat_minor": 0
}
