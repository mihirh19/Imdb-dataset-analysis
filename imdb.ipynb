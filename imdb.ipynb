{
 "cells": [
  {
   "cell_type": "markdown",
   "source": [
    "Dataset : '/movies.sqlite'"
   ],
   "metadata": {
    "collapsed": false
   }
  },
  {
   "cell_type": "markdown",
   "source": [
    "# importing the library"
   ],
   "metadata": {
    "collapsed": false
   }
  },
  {
   "cell_type": "code",
   "execution_count": 1,
   "outputs": [],
   "source": [
    "import numpy as np\n",
    "import pandas as pd\n",
    "import matplotlib.pyplot as plt\n",
    "import seaborn as sns\n",
    "import sqlite3"
   ],
   "metadata": {
    "collapsed": false,
    "ExecuteTime": {
     "end_time": "2023-06-28T03:56:32.946722300Z",
     "start_time": "2023-06-28T03:56:32.941532100Z"
    }
   }
  },
  {
   "cell_type": "markdown",
   "source": [
    "1. connect your database -> sqlite3.connect(database)\n",
    "2. use the cursor function -> database_variable.cursor()\n",
    "\n",
    "\n",
    "Workflow\n",
    "1. you need to establish a connection to sqlite database\n",
    "2. then, you have to create a cursor object using the cursor function\n",
    "3. then, execute the query -> cursor_object.execute('query')\n",
    "4. to fetch the data from the database the use fetchall() of cursor object"
   ],
   "metadata": {
    "collapsed": false
   }
  },
  {
   "cell_type": "markdown",
   "source": [
    "## 1. establish a connection to sqlite database"
   ],
   "metadata": {
    "collapsed": false
   }
  },
  {
   "cell_type": "code",
   "execution_count": 2,
   "outputs": [
    {
     "name": "stdout",
     "output_type": "stream",
     "text": [
      "Skipping, found downloaded files in \".\\imdbsqlitedataset\" (use force=True to force download)\n"
     ]
    }
   ],
   "source": [
    "import opendatasets as od\n",
    "\n",
    "od.download(\"https://www.kaggle.com/datasets/priy998/imdbsqlitedataset\")\n"
   ],
   "metadata": {
    "collapsed": false,
    "ExecuteTime": {
     "end_time": "2023-06-28T03:56:33.029119600Z",
     "start_time": "2023-06-28T03:56:32.953703400Z"
    }
   }
  },
  {
   "cell_type": "code",
   "execution_count": 3,
   "outputs": [],
   "source": [
    "\n",
    "db = 'imdbsqlitedataset/movie.sqlite'\n",
    "\n",
    "conn = sqlite3.connect(db)\n",
    "cur = conn.cursor()\n",
    "\n"
   ],
   "metadata": {
    "collapsed": false,
    "ExecuteTime": {
     "end_time": "2023-06-28T03:56:33.038109800Z",
     "start_time": "2023-06-28T03:56:33.032111100Z"
    }
   }
  },
  {
   "cell_type": "markdown",
   "source": [
    "## 2. get all the data aboyut the movies?"
   ],
   "metadata": {
    "collapsed": false
   }
  },
  {
   "cell_type": "code",
   "execution_count": 4,
   "outputs": [],
   "source": [
    "cur.execute(\"SELECT * FROM movies\")\n",
    "movies = cur.fetchall()"
   ],
   "metadata": {
    "collapsed": false,
    "ExecuteTime": {
     "end_time": "2023-06-28T03:56:33.106047300Z",
     "start_time": "2023-06-28T03:56:33.040104100Z"
    }
   }
  },
  {
   "cell_type": "code",
   "execution_count": 5,
   "outputs": [],
   "source": [
    "movie_df = pd.DataFrame(movies,\n",
    "                        columns=['id', 'original_title', 'budget', 'popularity', 'release_date', 'revenue', 'title',\n",
    "                                 'avg_rating', 'rating_count', 'overview', 'tagline', 'uid', 'director_id'])"
   ],
   "metadata": {
    "collapsed": false,
    "ExecuteTime": {
     "end_time": "2023-06-28T03:56:33.118784700Z",
     "start_time": "2023-06-28T03:56:33.107045Z"
    }
   }
  },
  {
   "cell_type": "code",
   "execution_count": 6,
   "outputs": [
    {
     "data": {
      "text/plain": "         id                            original_title     budget  popularity   \n0     43597                                    Avatar  237000000         150  \\\n1     43598  Pirates of the Caribbean: At World's End  300000000         139   \n2     43599                                   Spectre  245000000         107   \n3     43600                     The Dark Knight Rises  250000000         112   \n4     43601                               John Carter  260000000          43   \n...     ...                                       ...        ...         ...   \n4768  48395                               El Mariachi     220000          14   \n4769  48396                                 Newlyweds       9000           0   \n4770  48397                 Signed, Sealed, Delivered          0           1   \n4771  48398                          Shanghai Calling          0           0   \n4772  48399                         My Date with Drew          0           1   \n\n     release_date     revenue                                     title   \n0      2009-12-10  2787965087                                    Avatar  \\\n1      2007-05-19   961000000  Pirates of the Caribbean: At World's End   \n2      2015-10-26   880674609                                   Spectre   \n3      2012-07-16  1084939099                     The Dark Knight Rises   \n4      2012-03-07   284139100                               John Carter   \n...           ...         ...                                       ...   \n4768   1992-09-04     2040920                               El Mariachi   \n4769   2011-12-26           0                                 Newlyweds   \n4770   2013-10-13           0                 Signed, Sealed, Delivered   \n4771   2012-05-03           0                          Shanghai Calling   \n4772   2005-08-05           0                         My Date with Drew   \n\n      avg_rating  rating_count   \n0            7.2         11800  \\\n1            6.9          4500   \n2            6.3          4466   \n3            7.6          9106   \n4            6.1          2124   \n...          ...           ...   \n4768         6.6           238   \n4769         5.9             5   \n4770         7.0             6   \n4771         5.7             7   \n4772         6.3            16   \n\n                                               overview   \n0     In the 22nd century, a paraplegic Marine is di...  \\\n1     Captain Barbossa, long believed to be dead, ha...   \n2     A cryptic message from Bond’s past sends him o...   \n3     Following the death of District Attorney Harve...   \n4     John Carter is a war-weary, former military ca...   \n...                                                 ...   \n4768  El Mariachi just wants to play his guitar and ...   \n4769  A newlywed couple's honeymoon is upended by th...   \n4770  \"Signed, Sealed, Delivered\" introduces a dedic...   \n4771  When ambitious New York attorney Sam is sent t...   \n4772  Ever since the second grade when he first saw ...   \n\n                                                tagline     uid  director_id  \n0                           Enter the World of Pandora.   19995         4762  \n1        At the end of the world, the adventure begins.     285         4763  \n2                                 A Plan No One Escapes  206647         4764  \n3                                       The Legend Ends   49026         4765  \n4                  Lost in our world, found in another.   49529         4766  \n...                                                 ...     ...          ...  \n4768  He didn't come looking for trouble, but troubl...    9367         5097  \n4769  A newlywed couple's honeymoon is upended by th...   72766         6485  \n4770                                               None  231617         7108  \n4771                           A New Yorker in Shanghai  126186         7109  \n4772                                               None   25975         7110  \n\n[4773 rows x 13 columns]",
      "text/html": "<div>\n<style scoped>\n    .dataframe tbody tr th:only-of-type {\n        vertical-align: middle;\n    }\n\n    .dataframe tbody tr th {\n        vertical-align: top;\n    }\n\n    .dataframe thead th {\n        text-align: right;\n    }\n</style>\n<table border=\"1\" class=\"dataframe\">\n  <thead>\n    <tr style=\"text-align: right;\">\n      <th></th>\n      <th>id</th>\n      <th>original_title</th>\n      <th>budget</th>\n      <th>popularity</th>\n      <th>release_date</th>\n      <th>revenue</th>\n      <th>title</th>\n      <th>avg_rating</th>\n      <th>rating_count</th>\n      <th>overview</th>\n      <th>tagline</th>\n      <th>uid</th>\n      <th>director_id</th>\n    </tr>\n  </thead>\n  <tbody>\n    <tr>\n      <th>0</th>\n      <td>43597</td>\n      <td>Avatar</td>\n      <td>237000000</td>\n      <td>150</td>\n      <td>2009-12-10</td>\n      <td>2787965087</td>\n      <td>Avatar</td>\n      <td>7.2</td>\n      <td>11800</td>\n      <td>In the 22nd century, a paraplegic Marine is di...</td>\n      <td>Enter the World of Pandora.</td>\n      <td>19995</td>\n      <td>4762</td>\n    </tr>\n    <tr>\n      <th>1</th>\n      <td>43598</td>\n      <td>Pirates of the Caribbean: At World's End</td>\n      <td>300000000</td>\n      <td>139</td>\n      <td>2007-05-19</td>\n      <td>961000000</td>\n      <td>Pirates of the Caribbean: At World's End</td>\n      <td>6.9</td>\n      <td>4500</td>\n      <td>Captain Barbossa, long believed to be dead, ha...</td>\n      <td>At the end of the world, the adventure begins.</td>\n      <td>285</td>\n      <td>4763</td>\n    </tr>\n    <tr>\n      <th>2</th>\n      <td>43599</td>\n      <td>Spectre</td>\n      <td>245000000</td>\n      <td>107</td>\n      <td>2015-10-26</td>\n      <td>880674609</td>\n      <td>Spectre</td>\n      <td>6.3</td>\n      <td>4466</td>\n      <td>A cryptic message from Bond’s past sends him o...</td>\n      <td>A Plan No One Escapes</td>\n      <td>206647</td>\n      <td>4764</td>\n    </tr>\n    <tr>\n      <th>3</th>\n      <td>43600</td>\n      <td>The Dark Knight Rises</td>\n      <td>250000000</td>\n      <td>112</td>\n      <td>2012-07-16</td>\n      <td>1084939099</td>\n      <td>The Dark Knight Rises</td>\n      <td>7.6</td>\n      <td>9106</td>\n      <td>Following the death of District Attorney Harve...</td>\n      <td>The Legend Ends</td>\n      <td>49026</td>\n      <td>4765</td>\n    </tr>\n    <tr>\n      <th>4</th>\n      <td>43601</td>\n      <td>John Carter</td>\n      <td>260000000</td>\n      <td>43</td>\n      <td>2012-03-07</td>\n      <td>284139100</td>\n      <td>John Carter</td>\n      <td>6.1</td>\n      <td>2124</td>\n      <td>John Carter is a war-weary, former military ca...</td>\n      <td>Lost in our world, found in another.</td>\n      <td>49529</td>\n      <td>4766</td>\n    </tr>\n    <tr>\n      <th>...</th>\n      <td>...</td>\n      <td>...</td>\n      <td>...</td>\n      <td>...</td>\n      <td>...</td>\n      <td>...</td>\n      <td>...</td>\n      <td>...</td>\n      <td>...</td>\n      <td>...</td>\n      <td>...</td>\n      <td>...</td>\n      <td>...</td>\n    </tr>\n    <tr>\n      <th>4768</th>\n      <td>48395</td>\n      <td>El Mariachi</td>\n      <td>220000</td>\n      <td>14</td>\n      <td>1992-09-04</td>\n      <td>2040920</td>\n      <td>El Mariachi</td>\n      <td>6.6</td>\n      <td>238</td>\n      <td>El Mariachi just wants to play his guitar and ...</td>\n      <td>He didn't come looking for trouble, but troubl...</td>\n      <td>9367</td>\n      <td>5097</td>\n    </tr>\n    <tr>\n      <th>4769</th>\n      <td>48396</td>\n      <td>Newlyweds</td>\n      <td>9000</td>\n      <td>0</td>\n      <td>2011-12-26</td>\n      <td>0</td>\n      <td>Newlyweds</td>\n      <td>5.9</td>\n      <td>5</td>\n      <td>A newlywed couple's honeymoon is upended by th...</td>\n      <td>A newlywed couple's honeymoon is upended by th...</td>\n      <td>72766</td>\n      <td>6485</td>\n    </tr>\n    <tr>\n      <th>4770</th>\n      <td>48397</td>\n      <td>Signed, Sealed, Delivered</td>\n      <td>0</td>\n      <td>1</td>\n      <td>2013-10-13</td>\n      <td>0</td>\n      <td>Signed, Sealed, Delivered</td>\n      <td>7.0</td>\n      <td>6</td>\n      <td>\"Signed, Sealed, Delivered\" introduces a dedic...</td>\n      <td>None</td>\n      <td>231617</td>\n      <td>7108</td>\n    </tr>\n    <tr>\n      <th>4771</th>\n      <td>48398</td>\n      <td>Shanghai Calling</td>\n      <td>0</td>\n      <td>0</td>\n      <td>2012-05-03</td>\n      <td>0</td>\n      <td>Shanghai Calling</td>\n      <td>5.7</td>\n      <td>7</td>\n      <td>When ambitious New York attorney Sam is sent t...</td>\n      <td>A New Yorker in Shanghai</td>\n      <td>126186</td>\n      <td>7109</td>\n    </tr>\n    <tr>\n      <th>4772</th>\n      <td>48399</td>\n      <td>My Date with Drew</td>\n      <td>0</td>\n      <td>1</td>\n      <td>2005-08-05</td>\n      <td>0</td>\n      <td>My Date with Drew</td>\n      <td>6.3</td>\n      <td>16</td>\n      <td>Ever since the second grade when he first saw ...</td>\n      <td>None</td>\n      <td>25975</td>\n      <td>7110</td>\n    </tr>\n  </tbody>\n</table>\n<p>4773 rows × 13 columns</p>\n</div>"
     },
     "execution_count": 6,
     "metadata": {},
     "output_type": "execute_result"
    }
   ],
   "source": [
    "movie_df"
   ],
   "metadata": {
    "collapsed": false,
    "ExecuteTime": {
     "end_time": "2023-06-28T03:56:33.142357800Z",
     "start_time": "2023-06-28T03:56:33.119782500Z"
    }
   }
  },
  {
   "cell_type": "code",
   "execution_count": 7,
   "outputs": [
    {
     "name": "stdout",
     "output_type": "stream",
     "text": [
      "<class 'pandas.core.frame.DataFrame'>\n",
      "RangeIndex: 4773 entries, 0 to 4772\n",
      "Data columns (total 13 columns):\n",
      " #   Column          Non-Null Count  Dtype  \n",
      "---  ------          --------------  -----  \n",
      " 0   id              4773 non-null   int64  \n",
      " 1   original_title  4773 non-null   object \n",
      " 2   budget          4773 non-null   int64  \n",
      " 3   popularity      4773 non-null   int64  \n",
      " 4   release_date    4773 non-null   object \n",
      " 5   revenue         4773 non-null   int64  \n",
      " 6   title           4773 non-null   object \n",
      " 7   avg_rating      4773 non-null   float64\n",
      " 8   rating_count    4773 non-null   int64  \n",
      " 9   overview        4770 non-null   object \n",
      " 10  tagline         3951 non-null   object \n",
      " 11  uid             4773 non-null   int64  \n",
      " 12  director_id     4773 non-null   int64  \n",
      "dtypes: float64(1), int64(7), object(5)\n",
      "memory usage: 484.9+ KB\n"
     ]
    }
   ],
   "source": [
    "movie_df.info()"
   ],
   "metadata": {
    "collapsed": false,
    "ExecuteTime": {
     "end_time": "2023-06-28T03:56:33.158846700Z",
     "start_time": "2023-06-28T03:56:33.142357800Z"
    }
   }
  },
  {
   "cell_type": "markdown",
   "source": [
    "## 3. Get all the data about directors?"
   ],
   "metadata": {
    "collapsed": false
   }
  },
  {
   "cell_type": "code",
   "execution_count": 8,
   "outputs": [],
   "source": [
    "cur.execute(\"SELECT * FROM directors\")\n",
    "directors = cur.fetchall()"
   ],
   "metadata": {
    "collapsed": false,
    "ExecuteTime": {
     "end_time": "2023-06-28T03:56:33.210493500Z",
     "start_time": "2023-06-28T03:56:33.157847700Z"
    }
   }
  },
  {
   "cell_type": "code",
   "execution_count": 9,
   "outputs": [],
   "source": [
    "directors_df = pd.DataFrame(directors, columns=['name', 'id', 'gender', 'uid', 'department'])"
   ],
   "metadata": {
    "collapsed": false,
    "ExecuteTime": {
     "end_time": "2023-06-28T03:56:33.243471400Z",
     "start_time": "2023-06-28T03:56:33.172040400Z"
    }
   }
  },
  {
   "cell_type": "code",
   "execution_count": 10,
   "outputs": [
    {
     "data": {
      "text/plain": "                name    id  gender   uid department\n0      James Cameron  4762       2  2710  Directing\n1     Gore Verbinski  4763       2  1704  Directing\n2         Sam Mendes  4764       2    39  Directing\n3  Christopher Nolan  4765       2   525  Directing\n4     Andrew Stanton  4766       2     7  Directing",
      "text/html": "<div>\n<style scoped>\n    .dataframe tbody tr th:only-of-type {\n        vertical-align: middle;\n    }\n\n    .dataframe tbody tr th {\n        vertical-align: top;\n    }\n\n    .dataframe thead th {\n        text-align: right;\n    }\n</style>\n<table border=\"1\" class=\"dataframe\">\n  <thead>\n    <tr style=\"text-align: right;\">\n      <th></th>\n      <th>name</th>\n      <th>id</th>\n      <th>gender</th>\n      <th>uid</th>\n      <th>department</th>\n    </tr>\n  </thead>\n  <tbody>\n    <tr>\n      <th>0</th>\n      <td>James Cameron</td>\n      <td>4762</td>\n      <td>2</td>\n      <td>2710</td>\n      <td>Directing</td>\n    </tr>\n    <tr>\n      <th>1</th>\n      <td>Gore Verbinski</td>\n      <td>4763</td>\n      <td>2</td>\n      <td>1704</td>\n      <td>Directing</td>\n    </tr>\n    <tr>\n      <th>2</th>\n      <td>Sam Mendes</td>\n      <td>4764</td>\n      <td>2</td>\n      <td>39</td>\n      <td>Directing</td>\n    </tr>\n    <tr>\n      <th>3</th>\n      <td>Christopher Nolan</td>\n      <td>4765</td>\n      <td>2</td>\n      <td>525</td>\n      <td>Directing</td>\n    </tr>\n    <tr>\n      <th>4</th>\n      <td>Andrew Stanton</td>\n      <td>4766</td>\n      <td>2</td>\n      <td>7</td>\n      <td>Directing</td>\n    </tr>\n  </tbody>\n</table>\n</div>"
     },
     "execution_count": 10,
     "metadata": {},
     "output_type": "execute_result"
    }
   ],
   "source": [
    "directors_df.head()"
   ],
   "metadata": {
    "collapsed": false,
    "ExecuteTime": {
     "end_time": "2023-06-28T03:56:33.264416200Z",
     "start_time": "2023-06-28T03:56:33.181041500Z"
    }
   }
  },
  {
   "cell_type": "markdown",
   "source": [
    "## 4. Check how many movies are present in IMDB table"
   ],
   "metadata": {
    "collapsed": false
   }
  },
  {
   "cell_type": "code",
   "execution_count": 11,
   "outputs": [],
   "source": [
    "cur.execute('SELECT COUNT(TITLE) FROM movies')\n",
    "count = cur.fetchall()"
   ],
   "metadata": {
    "collapsed": false,
    "ExecuteTime": {
     "end_time": "2023-06-28T03:56:33.264416200Z",
     "start_time": "2023-06-28T03:56:33.193808700Z"
    }
   }
  },
  {
   "cell_type": "code",
   "execution_count": 12,
   "outputs": [
    {
     "name": "stdout",
     "output_type": "stream",
     "text": [
      "Number of the movies present in IMDB database is (4773,)\n"
     ]
    }
   ],
   "source": [
    "print(f\"Number of the movies present in IMDB database is {count[0]}\")"
   ],
   "metadata": {
    "collapsed": false,
    "ExecuteTime": {
     "end_time": "2023-06-28T03:56:33.265413600Z",
     "start_time": "2023-06-28T03:56:33.210493500Z"
    }
   }
  },
  {
   "cell_type": "markdown",
   "source": [
    "## 5. Find these 3 directors: James cameron, luc Besson, John Woo"
   ],
   "metadata": {
    "collapsed": false
   }
  },
  {
   "cell_type": "code",
   "execution_count": 13,
   "outputs": [],
   "source": [
    "cur.execute('select * from directors where name in (\"James Cameron\", \"Luc Besson\", \"John Woo\")')\n",
    "three_directors = cur.fetchall()"
   ],
   "metadata": {
    "collapsed": false,
    "ExecuteTime": {
     "end_time": "2023-06-28T03:56:33.265413600Z",
     "start_time": "2023-06-28T03:56:33.210493500Z"
    }
   }
  },
  {
   "cell_type": "code",
   "execution_count": 14,
   "outputs": [
    {
     "name": "stdout",
     "output_type": "stream",
     "text": [
      "these three directors data are : [('James Cameron', 4762, 2, 2710, 'Directing'), ('John Woo', 4893, 2, 11401, 'Directing'), ('Luc Besson', 4949, 2, 59, 'Directing')]\n"
     ]
    }
   ],
   "source": [
    "print(f'these three directors data are : {three_directors}')"
   ],
   "metadata": {
    "collapsed": false,
    "ExecuteTime": {
     "end_time": "2023-06-28T03:56:33.265413600Z",
     "start_time": "2023-06-28T03:56:33.212488100Z"
    }
   }
  },
  {
   "cell_type": "markdown",
   "source": [
    "## 6. Find all the directors with name starting with \"Steven\""
   ],
   "metadata": {
    "collapsed": false
   }
  },
  {
   "cell_type": "code",
   "execution_count": 15,
   "outputs": [],
   "source": [
    "cur.execute('select * from directors where name like \"Steven%\"')\n",
    "name_like = cur.fetchall()"
   ],
   "metadata": {
    "collapsed": false,
    "ExecuteTime": {
     "end_time": "2023-06-28T03:59:10.329981800Z",
     "start_time": "2023-06-28T03:59:10.246692100Z"
    }
   }
  },
  {
   "cell_type": "code",
   "execution_count": 17,
   "outputs": [
    {
     "name": "stdout",
     "output_type": "stream",
     "text": [
      "The directors whose names are starting with the word 'Steven' are  : [('Steven Spielberg', 4799, 2, 488, 'Directing'), ('Steven Soderbergh', 4909, 2, 1884, 'Directing'), ('Steven Brill', 5013, 2, 32593, 'Directing'), ('Steven Zaillian', 5117, 2, 2260, 'Directing'), ('Steven Quale', 5216, 2, 93214, 'Directing'), ('Steven Seagal', 5221, 2, 23880, 'Directing'), ('Steven E. de Souza', 5390, 2, 1726, 'Directing'), ('Steven Shainberg', 5803, 2, 67795, 'Directing'), ('Steven R. Monroe', 6713, 2, 88039, 'Directing')]\n"
     ]
    }
   ],
   "source": [
    "print(f\"The directors whose names are starting with the word 'Steven' are  : {name_like}\")"
   ],
   "metadata": {
    "collapsed": false,
    "ExecuteTime": {
     "end_time": "2023-06-28T04:00:42.819991Z",
     "start_time": "2023-06-28T04:00:42.730971400Z"
    }
   }
  },
  {
   "cell_type": "markdown",
   "source": [
    "## 7. Count the female directors"
   ],
   "metadata": {
    "collapsed": false
   }
  },
  {
   "cell_type": "code",
   "execution_count": 18,
   "outputs": [],
   "source": [
    "cur.execute('select count(id) from directors where gender==\"1\"')\n",
    "females = cur.fetchall()\n"
   ],
   "metadata": {
    "collapsed": false,
    "ExecuteTime": {
     "end_time": "2023-06-28T04:03:15.403279300Z",
     "start_time": "2023-06-28T04:03:15.320973Z"
    }
   }
  },
  {
   "cell_type": "code",
   "execution_count": 19,
   "outputs": [
    {
     "name": "stdout",
     "output_type": "stream",
     "text": [
      "The number of female directors is 150\n"
     ]
    }
   ],
   "source": [
    "print(f\"The number of female directors is {females[0][0]}\")"
   ],
   "metadata": {
    "collapsed": false,
    "ExecuteTime": {
     "end_time": "2023-06-28T04:03:49.940056100Z",
     "start_time": "2023-06-28T04:03:49.833825600Z"
    }
   }
  },
  {
   "cell_type": "markdown",
   "source": [
    "## 8. Find the name of the 10th first women directors"
   ],
   "metadata": {
    "collapsed": false
   }
  },
  {
   "cell_type": "code",
   "execution_count": 23,
   "outputs": [],
   "source": [
    "cur.execute('select name from directors where gender==1')\n",
    "tenth = cur.fetchall()"
   ],
   "metadata": {
    "collapsed": false,
    "ExecuteTime": {
     "end_time": "2023-06-28T04:07:55.124595900Z",
     "start_time": "2023-06-28T04:07:55.120606700Z"
    }
   }
  },
  {
   "cell_type": "code",
   "execution_count": 24,
   "outputs": [
    {
     "name": "stdout",
     "output_type": "stream",
     "text": [
      "The tenth first women is Angelina Jolie\n"
     ]
    }
   ],
   "source": [
    "print(f\"The tenth first women is {tenth[9][0]}\")"
   ],
   "metadata": {
    "collapsed": false,
    "ExecuteTime": {
     "end_time": "2023-06-28T04:07:55.690559700Z",
     "start_time": "2023-06-28T04:07:55.677590100Z"
    }
   }
  },
  {
   "cell_type": "markdown",
   "source": [
    "## 9. What are the 3 most popular movies"
   ],
   "metadata": {
    "collapsed": false
   }
  },
  {
   "cell_type": "code",
   "execution_count": 26,
   "outputs": [
    {
     "data": {
      "text/plain": "         id                            original_title     budget  popularity   \n0     43597                                    Avatar  237000000         150  \\\n1     43598  Pirates of the Caribbean: At World's End  300000000         139   \n2     43599                                   Spectre  245000000         107   \n3     43600                     The Dark Knight Rises  250000000         112   \n4     43601                               John Carter  260000000          43   \n...     ...                                       ...        ...         ...   \n4768  48395                               El Mariachi     220000          14   \n4769  48396                                 Newlyweds       9000           0   \n4770  48397                 Signed, Sealed, Delivered          0           1   \n4771  48398                          Shanghai Calling          0           0   \n4772  48399                         My Date with Drew          0           1   \n\n     release_date     revenue                                     title   \n0      2009-12-10  2787965087                                    Avatar  \\\n1      2007-05-19   961000000  Pirates of the Caribbean: At World's End   \n2      2015-10-26   880674609                                   Spectre   \n3      2012-07-16  1084939099                     The Dark Knight Rises   \n4      2012-03-07   284139100                               John Carter   \n...           ...         ...                                       ...   \n4768   1992-09-04     2040920                               El Mariachi   \n4769   2011-12-26           0                                 Newlyweds   \n4770   2013-10-13           0                 Signed, Sealed, Delivered   \n4771   2012-05-03           0                          Shanghai Calling   \n4772   2005-08-05           0                         My Date with Drew   \n\n      avg_rating  rating_count   \n0            7.2         11800  \\\n1            6.9          4500   \n2            6.3          4466   \n3            7.6          9106   \n4            6.1          2124   \n...          ...           ...   \n4768         6.6           238   \n4769         5.9             5   \n4770         7.0             6   \n4771         5.7             7   \n4772         6.3            16   \n\n                                               overview   \n0     In the 22nd century, a paraplegic Marine is di...  \\\n1     Captain Barbossa, long believed to be dead, ha...   \n2     A cryptic message from Bond’s past sends him o...   \n3     Following the death of District Attorney Harve...   \n4     John Carter is a war-weary, former military ca...   \n...                                                 ...   \n4768  El Mariachi just wants to play his guitar and ...   \n4769  A newlywed couple's honeymoon is upended by th...   \n4770  \"Signed, Sealed, Delivered\" introduces a dedic...   \n4771  When ambitious New York attorney Sam is sent t...   \n4772  Ever since the second grade when he first saw ...   \n\n                                                tagline     uid  director_id  \n0                           Enter the World of Pandora.   19995         4762  \n1        At the end of the world, the adventure begins.     285         4763  \n2                                 A Plan No One Escapes  206647         4764  \n3                                       The Legend Ends   49026         4765  \n4                  Lost in our world, found in another.   49529         4766  \n...                                                 ...     ...          ...  \n4768  He didn't come looking for trouble, but troubl...    9367         5097  \n4769  A newlywed couple's honeymoon is upended by th...   72766         6485  \n4770                                               None  231617         7108  \n4771                           A New Yorker in Shanghai  126186         7109  \n4772                                               None   25975         7110  \n\n[4773 rows x 13 columns]",
      "text/html": "<div>\n<style scoped>\n    .dataframe tbody tr th:only-of-type {\n        vertical-align: middle;\n    }\n\n    .dataframe tbody tr th {\n        vertical-align: top;\n    }\n\n    .dataframe thead th {\n        text-align: right;\n    }\n</style>\n<table border=\"1\" class=\"dataframe\">\n  <thead>\n    <tr style=\"text-align: right;\">\n      <th></th>\n      <th>id</th>\n      <th>original_title</th>\n      <th>budget</th>\n      <th>popularity</th>\n      <th>release_date</th>\n      <th>revenue</th>\n      <th>title</th>\n      <th>avg_rating</th>\n      <th>rating_count</th>\n      <th>overview</th>\n      <th>tagline</th>\n      <th>uid</th>\n      <th>director_id</th>\n    </tr>\n  </thead>\n  <tbody>\n    <tr>\n      <th>0</th>\n      <td>43597</td>\n      <td>Avatar</td>\n      <td>237000000</td>\n      <td>150</td>\n      <td>2009-12-10</td>\n      <td>2787965087</td>\n      <td>Avatar</td>\n      <td>7.2</td>\n      <td>11800</td>\n      <td>In the 22nd century, a paraplegic Marine is di...</td>\n      <td>Enter the World of Pandora.</td>\n      <td>19995</td>\n      <td>4762</td>\n    </tr>\n    <tr>\n      <th>1</th>\n      <td>43598</td>\n      <td>Pirates of the Caribbean: At World's End</td>\n      <td>300000000</td>\n      <td>139</td>\n      <td>2007-05-19</td>\n      <td>961000000</td>\n      <td>Pirates of the Caribbean: At World's End</td>\n      <td>6.9</td>\n      <td>4500</td>\n      <td>Captain Barbossa, long believed to be dead, ha...</td>\n      <td>At the end of the world, the adventure begins.</td>\n      <td>285</td>\n      <td>4763</td>\n    </tr>\n    <tr>\n      <th>2</th>\n      <td>43599</td>\n      <td>Spectre</td>\n      <td>245000000</td>\n      <td>107</td>\n      <td>2015-10-26</td>\n      <td>880674609</td>\n      <td>Spectre</td>\n      <td>6.3</td>\n      <td>4466</td>\n      <td>A cryptic message from Bond’s past sends him o...</td>\n      <td>A Plan No One Escapes</td>\n      <td>206647</td>\n      <td>4764</td>\n    </tr>\n    <tr>\n      <th>3</th>\n      <td>43600</td>\n      <td>The Dark Knight Rises</td>\n      <td>250000000</td>\n      <td>112</td>\n      <td>2012-07-16</td>\n      <td>1084939099</td>\n      <td>The Dark Knight Rises</td>\n      <td>7.6</td>\n      <td>9106</td>\n      <td>Following the death of District Attorney Harve...</td>\n      <td>The Legend Ends</td>\n      <td>49026</td>\n      <td>4765</td>\n    </tr>\n    <tr>\n      <th>4</th>\n      <td>43601</td>\n      <td>John Carter</td>\n      <td>260000000</td>\n      <td>43</td>\n      <td>2012-03-07</td>\n      <td>284139100</td>\n      <td>John Carter</td>\n      <td>6.1</td>\n      <td>2124</td>\n      <td>John Carter is a war-weary, former military ca...</td>\n      <td>Lost in our world, found in another.</td>\n      <td>49529</td>\n      <td>4766</td>\n    </tr>\n    <tr>\n      <th>...</th>\n      <td>...</td>\n      <td>...</td>\n      <td>...</td>\n      <td>...</td>\n      <td>...</td>\n      <td>...</td>\n      <td>...</td>\n      <td>...</td>\n      <td>...</td>\n      <td>...</td>\n      <td>...</td>\n      <td>...</td>\n      <td>...</td>\n    </tr>\n    <tr>\n      <th>4768</th>\n      <td>48395</td>\n      <td>El Mariachi</td>\n      <td>220000</td>\n      <td>14</td>\n      <td>1992-09-04</td>\n      <td>2040920</td>\n      <td>El Mariachi</td>\n      <td>6.6</td>\n      <td>238</td>\n      <td>El Mariachi just wants to play his guitar and ...</td>\n      <td>He didn't come looking for trouble, but troubl...</td>\n      <td>9367</td>\n      <td>5097</td>\n    </tr>\n    <tr>\n      <th>4769</th>\n      <td>48396</td>\n      <td>Newlyweds</td>\n      <td>9000</td>\n      <td>0</td>\n      <td>2011-12-26</td>\n      <td>0</td>\n      <td>Newlyweds</td>\n      <td>5.9</td>\n      <td>5</td>\n      <td>A newlywed couple's honeymoon is upended by th...</td>\n      <td>A newlywed couple's honeymoon is upended by th...</td>\n      <td>72766</td>\n      <td>6485</td>\n    </tr>\n    <tr>\n      <th>4770</th>\n      <td>48397</td>\n      <td>Signed, Sealed, Delivered</td>\n      <td>0</td>\n      <td>1</td>\n      <td>2013-10-13</td>\n      <td>0</td>\n      <td>Signed, Sealed, Delivered</td>\n      <td>7.0</td>\n      <td>6</td>\n      <td>\"Signed, Sealed, Delivered\" introduces a dedic...</td>\n      <td>None</td>\n      <td>231617</td>\n      <td>7108</td>\n    </tr>\n    <tr>\n      <th>4771</th>\n      <td>48398</td>\n      <td>Shanghai Calling</td>\n      <td>0</td>\n      <td>0</td>\n      <td>2012-05-03</td>\n      <td>0</td>\n      <td>Shanghai Calling</td>\n      <td>5.7</td>\n      <td>7</td>\n      <td>When ambitious New York attorney Sam is sent t...</td>\n      <td>A New Yorker in Shanghai</td>\n      <td>126186</td>\n      <td>7109</td>\n    </tr>\n    <tr>\n      <th>4772</th>\n      <td>48399</td>\n      <td>My Date with Drew</td>\n      <td>0</td>\n      <td>1</td>\n      <td>2005-08-05</td>\n      <td>0</td>\n      <td>My Date with Drew</td>\n      <td>6.3</td>\n      <td>16</td>\n      <td>Ever since the second grade when he first saw ...</td>\n      <td>None</td>\n      <td>25975</td>\n      <td>7110</td>\n    </tr>\n  </tbody>\n</table>\n<p>4773 rows × 13 columns</p>\n</div>"
     },
     "execution_count": 26,
     "metadata": {},
     "output_type": "execute_result"
    }
   ],
   "source": [
    "movie_df"
   ],
   "metadata": {
    "collapsed": false,
    "ExecuteTime": {
     "end_time": "2023-06-28T04:08:47.719190100Z",
     "start_time": "2023-06-28T04:08:47.696048400Z"
    }
   }
  },
  {
   "cell_type": "code",
   "execution_count": 27,
   "outputs": [],
   "source": [
    "cur.execute('select original_title from movies order by popularity desc limit 3')\n",
    "most_popular = cur.fetchall()\n"
   ],
   "metadata": {
    "collapsed": false,
    "ExecuteTime": {
     "end_time": "2023-06-28T04:10:22.288349700Z",
     "start_time": "2023-06-28T04:10:22.202067600Z"
    }
   }
  },
  {
   "cell_type": "code",
   "execution_count": 32,
   "outputs": [
    {
     "name": "stdout",
     "output_type": "stream",
     "text": [
      "The 3 most popular movies are  : Minions, Interstellar and Deadpool\n"
     ]
    }
   ],
   "source": [
    "print(f\"The 3 most popular movies are  : {most_popular[0][0]}, {most_popular[1][0]} and {most_popular[2][0]}\")"
   ],
   "metadata": {
    "collapsed": false,
    "ExecuteTime": {
     "end_time": "2023-06-28T04:12:27.076514Z",
     "start_time": "2023-06-28T04:12:27.037079700Z"
    }
   }
  },
  {
   "cell_type": "markdown",
   "source": [
    "## 10. What are the 3 most bankable movies?"
   ],
   "metadata": {
    "collapsed": false
   }
  },
  {
   "cell_type": "code",
   "execution_count": 33,
   "outputs": [
    {
     "data": {
      "text/plain": "      id                            original_title     budget  popularity   \n0  43597                                    Avatar  237000000         150  \\\n1  43598  Pirates of the Caribbean: At World's End  300000000         139   \n2  43599                                   Spectre  245000000         107   \n3  43600                     The Dark Knight Rises  250000000         112   \n4  43601                               John Carter  260000000          43   \n\n  release_date     revenue                                     title   \n0   2009-12-10  2787965087                                    Avatar  \\\n1   2007-05-19   961000000  Pirates of the Caribbean: At World's End   \n2   2015-10-26   880674609                                   Spectre   \n3   2012-07-16  1084939099                     The Dark Knight Rises   \n4   2012-03-07   284139100                               John Carter   \n\n   avg_rating  rating_count   \n0         7.2         11800  \\\n1         6.9          4500   \n2         6.3          4466   \n3         7.6          9106   \n4         6.1          2124   \n\n                                            overview   \n0  In the 22nd century, a paraplegic Marine is di...  \\\n1  Captain Barbossa, long believed to be dead, ha...   \n2  A cryptic message from Bond’s past sends him o...   \n3  Following the death of District Attorney Harve...   \n4  John Carter is a war-weary, former military ca...   \n\n                                          tagline     uid  director_id  \n0                     Enter the World of Pandora.   19995         4762  \n1  At the end of the world, the adventure begins.     285         4763  \n2                           A Plan No One Escapes  206647         4764  \n3                                 The Legend Ends   49026         4765  \n4            Lost in our world, found in another.   49529         4766  ",
      "text/html": "<div>\n<style scoped>\n    .dataframe tbody tr th:only-of-type {\n        vertical-align: middle;\n    }\n\n    .dataframe tbody tr th {\n        vertical-align: top;\n    }\n\n    .dataframe thead th {\n        text-align: right;\n    }\n</style>\n<table border=\"1\" class=\"dataframe\">\n  <thead>\n    <tr style=\"text-align: right;\">\n      <th></th>\n      <th>id</th>\n      <th>original_title</th>\n      <th>budget</th>\n      <th>popularity</th>\n      <th>release_date</th>\n      <th>revenue</th>\n      <th>title</th>\n      <th>avg_rating</th>\n      <th>rating_count</th>\n      <th>overview</th>\n      <th>tagline</th>\n      <th>uid</th>\n      <th>director_id</th>\n    </tr>\n  </thead>\n  <tbody>\n    <tr>\n      <th>0</th>\n      <td>43597</td>\n      <td>Avatar</td>\n      <td>237000000</td>\n      <td>150</td>\n      <td>2009-12-10</td>\n      <td>2787965087</td>\n      <td>Avatar</td>\n      <td>7.2</td>\n      <td>11800</td>\n      <td>In the 22nd century, a paraplegic Marine is di...</td>\n      <td>Enter the World of Pandora.</td>\n      <td>19995</td>\n      <td>4762</td>\n    </tr>\n    <tr>\n      <th>1</th>\n      <td>43598</td>\n      <td>Pirates of the Caribbean: At World's End</td>\n      <td>300000000</td>\n      <td>139</td>\n      <td>2007-05-19</td>\n      <td>961000000</td>\n      <td>Pirates of the Caribbean: At World's End</td>\n      <td>6.9</td>\n      <td>4500</td>\n      <td>Captain Barbossa, long believed to be dead, ha...</td>\n      <td>At the end of the world, the adventure begins.</td>\n      <td>285</td>\n      <td>4763</td>\n    </tr>\n    <tr>\n      <th>2</th>\n      <td>43599</td>\n      <td>Spectre</td>\n      <td>245000000</td>\n      <td>107</td>\n      <td>2015-10-26</td>\n      <td>880674609</td>\n      <td>Spectre</td>\n      <td>6.3</td>\n      <td>4466</td>\n      <td>A cryptic message from Bond’s past sends him o...</td>\n      <td>A Plan No One Escapes</td>\n      <td>206647</td>\n      <td>4764</td>\n    </tr>\n    <tr>\n      <th>3</th>\n      <td>43600</td>\n      <td>The Dark Knight Rises</td>\n      <td>250000000</td>\n      <td>112</td>\n      <td>2012-07-16</td>\n      <td>1084939099</td>\n      <td>The Dark Knight Rises</td>\n      <td>7.6</td>\n      <td>9106</td>\n      <td>Following the death of District Attorney Harve...</td>\n      <td>The Legend Ends</td>\n      <td>49026</td>\n      <td>4765</td>\n    </tr>\n    <tr>\n      <th>4</th>\n      <td>43601</td>\n      <td>John Carter</td>\n      <td>260000000</td>\n      <td>43</td>\n      <td>2012-03-07</td>\n      <td>284139100</td>\n      <td>John Carter</td>\n      <td>6.1</td>\n      <td>2124</td>\n      <td>John Carter is a war-weary, former military ca...</td>\n      <td>Lost in our world, found in another.</td>\n      <td>49529</td>\n      <td>4766</td>\n    </tr>\n  </tbody>\n</table>\n</div>"
     },
     "execution_count": 33,
     "metadata": {},
     "output_type": "execute_result"
    }
   ],
   "source": [
    "movie_df.head()"
   ],
   "metadata": {
    "collapsed": false,
    "ExecuteTime": {
     "end_time": "2023-06-28T04:13:04.522623800Z",
     "start_time": "2023-06-28T04:13:04.420380700Z"
    }
   }
  },
  {
   "cell_type": "code",
   "execution_count": 34,
   "outputs": [],
   "source": [
    "cur.execute('select original_title from movies order by budget desc limit 3')\n",
    "most_bankable = cur.fetchall()"
   ],
   "metadata": {
    "collapsed": false,
    "ExecuteTime": {
     "end_time": "2023-06-28T04:13:50.034786600Z",
     "start_time": "2023-06-28T04:13:49.942523800Z"
    }
   }
  },
  {
   "cell_type": "code",
   "execution_count": 35,
   "outputs": [
    {
     "name": "stdout",
     "output_type": "stream",
     "text": [
      "the 3 most bankable movies are Pirates of the Caribbean: On Stranger Tides, Pirates of the Caribbean: At World's End and Avengers: Age of Ultron\n"
     ]
    }
   ],
   "source": [
    "print(f\"the 3 most bankable movies are {most_bankable[0][0]}, {most_bankable[1][0]} and {most_bankable[2][0]}\")"
   ],
   "metadata": {
    "collapsed": false,
    "ExecuteTime": {
     "end_time": "2023-06-28T04:14:50.632927100Z",
     "start_time": "2023-06-28T04:14:50.522163400Z"
    }
   }
  },
  {
   "cell_type": "code",
   "execution_count": null,
   "outputs": [],
   "source": [],
   "metadata": {
    "collapsed": false
   }
  }
 ],
 "metadata": {
  "kernelspec": {
   "display_name": "Python 3",
   "language": "python",
   "name": "python3"
  },
  "language_info": {
   "codemirror_mode": {
    "name": "ipython",
    "version": 2
   },
   "file_extension": ".py",
   "mimetype": "text/x-python",
   "name": "python",
   "nbconvert_exporter": "python",
   "pygments_lexer": "ipython2",
   "version": "2.7.6"
  }
 },
 "nbformat": 4,
 "nbformat_minor": 0
}
