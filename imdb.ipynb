{
 "cells": [
  {
   "cell_type": "markdown",
   "metadata": {
    "collapsed": false
   },
   "source": [
    "Dataset : '/movies.sqlite'"
   ]
  },
  {
   "cell_type": "markdown",
   "metadata": {
    "collapsed": false
   },
   "source": [
    "# importing the library"
   ]
  },
  {
   "cell_type": "code",
   "execution_count": 1,
   "metadata": {
    "ExecuteTime": {
     "end_time": "2023-07-01T03:55:33.199935400Z",
     "start_time": "2023-07-01T03:55:32.903470500Z"
    },
    "collapsed": false
   },
   "outputs": [],
   "source": [
    "import numpy as np\n",
    "import pandas as pd\n",
    "import matplotlib.pyplot as plt\n",
    "import seaborn as sns\n",
    "import sqlite3"
   ]
  },
  {
   "cell_type": "markdown",
   "metadata": {
    "collapsed": false
   },
   "source": [
    "1. connect your database -> sqlite3.connect(database)\n",
    "2. use the cursor function -> database_variable.cursor()\n",
    "\n",
    "\n",
    "Workflow\n",
    "1. you need to establish a connection to sqlite database\n",
    "2. then, you have to create a cursor object using the cursor function\n",
    "3. then, execute the query -> cursor_object.execute('query')\n",
    "4. to fetch the data from the database the use fetchall() of cursor object"
   ]
  },
  {
   "cell_type": "markdown",
   "metadata": {
    "collapsed": false
   },
   "source": [
    "## 1. establish a connection to sqlite database"
   ]
  },
  {
   "cell_type": "code",
   "execution_count": 2,
   "metadata": {
    "ExecuteTime": {
     "end_time": "2023-07-01T03:55:33.419512100Z",
     "start_time": "2023-07-01T03:55:32.926918300Z"
    },
    "collapsed": false
   },
   "outputs": [
    {
     "name": "stdout",
     "output_type": "stream",
     "text": [
      "Skipping, found downloaded files in \".\\imdbsqlitedataset\" (use force=True to force download)\n"
     ]
    }
   ],
   "source": [
    "import opendatasets as od\n",
    "\n",
    "od.download(\"https://www.kaggle.com/datasets/priy998/imdbsqlitedataset\")\n"
   ]
  },
  {
   "cell_type": "code",
   "execution_count": 3,
   "metadata": {
    "ExecuteTime": {
     "end_time": "2023-07-01T03:55:33.420510900Z",
     "start_time": "2023-07-01T03:55:32.935348400Z"
    },
    "collapsed": false
   },
   "outputs": [],
   "source": [
    "\n",
    "db = 'imdbsqlitedataset/movie.sqlite'\n",
    "conn = sqlite3.connect(db)\n",
    "cur = conn.cursor()"
   ]
  },
  {
   "cell_type": "markdown",
   "metadata": {
    "collapsed": false
   },
   "source": [
    "## 2. get all the data aboyut the movies?"
   ]
  },
  {
   "cell_type": "code",
   "execution_count": 4,
   "metadata": {
    "ExecuteTime": {
     "end_time": "2023-07-01T03:55:33.496829200Z",
     "start_time": "2023-07-01T03:55:32.945550800Z"
    },
    "collapsed": false
   },
   "outputs": [],
   "source": [
    "cur.execute(\"SELECT * FROM movies\")\n",
    "movies = cur.fetchall()"
   ]
  },
  {
   "cell_type": "code",
   "execution_count": 5,
   "metadata": {
    "ExecuteTime": {
     "end_time": "2023-07-01T03:55:33.516777Z",
     "start_time": "2023-07-01T03:55:33.011159100Z"
    },
    "collapsed": false
   },
   "outputs": [],
   "source": [
    "movie_df = pd.DataFrame(movies,\n",
    "                        columns=['id', 'original_title', 'budget', 'popularity', 'release_date', 'revenue', 'title',\n",
    "                                 'vote_average', 'vote_count', 'overview', 'tagline', 'uid', 'director_id'])"
   ]
  },
  {
   "cell_type": "code",
   "execution_count": 6,
   "metadata": {
    "ExecuteTime": {
     "end_time": "2023-07-01T03:55:33.537723400Z",
     "start_time": "2023-07-01T03:55:33.024369100Z"
    },
    "collapsed": false
   },
   "outputs": [
    {
     "data": {
      "text/html": [
       "<div>\n",
       "<style scoped>\n",
       "    .dataframe tbody tr th:only-of-type {\n",
       "        vertical-align: middle;\n",
       "    }\n",
       "\n",
       "    .dataframe tbody tr th {\n",
       "        vertical-align: top;\n",
       "    }\n",
       "\n",
       "    .dataframe thead th {\n",
       "        text-align: right;\n",
       "    }\n",
       "</style>\n",
       "<table border=\"1\" class=\"dataframe\">\n",
       "  <thead>\n",
       "    <tr style=\"text-align: right;\">\n",
       "      <th></th>\n",
       "      <th>id</th>\n",
       "      <th>original_title</th>\n",
       "      <th>budget</th>\n",
       "      <th>popularity</th>\n",
       "      <th>release_date</th>\n",
       "      <th>revenue</th>\n",
       "      <th>title</th>\n",
       "      <th>vote_average</th>\n",
       "      <th>vote_count</th>\n",
       "      <th>overview</th>\n",
       "      <th>tagline</th>\n",
       "      <th>uid</th>\n",
       "      <th>director_id</th>\n",
       "    </tr>\n",
       "  </thead>\n",
       "  <tbody>\n",
       "    <tr>\n",
       "      <th>0</th>\n",
       "      <td>43597</td>\n",
       "      <td>Avatar</td>\n",
       "      <td>237000000</td>\n",
       "      <td>150</td>\n",
       "      <td>2009-12-10</td>\n",
       "      <td>2787965087</td>\n",
       "      <td>Avatar</td>\n",
       "      <td>7.2</td>\n",
       "      <td>11800</td>\n",
       "      <td>In the 22nd century, a paraplegic Marine is di...</td>\n",
       "      <td>Enter the World of Pandora.</td>\n",
       "      <td>19995</td>\n",
       "      <td>4762</td>\n",
       "    </tr>\n",
       "    <tr>\n",
       "      <th>1</th>\n",
       "      <td>43598</td>\n",
       "      <td>Pirates of the Caribbean: At World's End</td>\n",
       "      <td>300000000</td>\n",
       "      <td>139</td>\n",
       "      <td>2007-05-19</td>\n",
       "      <td>961000000</td>\n",
       "      <td>Pirates of the Caribbean: At World's End</td>\n",
       "      <td>6.9</td>\n",
       "      <td>4500</td>\n",
       "      <td>Captain Barbossa, long believed to be dead, ha...</td>\n",
       "      <td>At the end of the world, the adventure begins.</td>\n",
       "      <td>285</td>\n",
       "      <td>4763</td>\n",
       "    </tr>\n",
       "    <tr>\n",
       "      <th>2</th>\n",
       "      <td>43599</td>\n",
       "      <td>Spectre</td>\n",
       "      <td>245000000</td>\n",
       "      <td>107</td>\n",
       "      <td>2015-10-26</td>\n",
       "      <td>880674609</td>\n",
       "      <td>Spectre</td>\n",
       "      <td>6.3</td>\n",
       "      <td>4466</td>\n",
       "      <td>A cryptic message from Bond’s past sends him o...</td>\n",
       "      <td>A Plan No One Escapes</td>\n",
       "      <td>206647</td>\n",
       "      <td>4764</td>\n",
       "    </tr>\n",
       "    <tr>\n",
       "      <th>3</th>\n",
       "      <td>43600</td>\n",
       "      <td>The Dark Knight Rises</td>\n",
       "      <td>250000000</td>\n",
       "      <td>112</td>\n",
       "      <td>2012-07-16</td>\n",
       "      <td>1084939099</td>\n",
       "      <td>The Dark Knight Rises</td>\n",
       "      <td>7.6</td>\n",
       "      <td>9106</td>\n",
       "      <td>Following the death of District Attorney Harve...</td>\n",
       "      <td>The Legend Ends</td>\n",
       "      <td>49026</td>\n",
       "      <td>4765</td>\n",
       "    </tr>\n",
       "    <tr>\n",
       "      <th>4</th>\n",
       "      <td>43601</td>\n",
       "      <td>John Carter</td>\n",
       "      <td>260000000</td>\n",
       "      <td>43</td>\n",
       "      <td>2012-03-07</td>\n",
       "      <td>284139100</td>\n",
       "      <td>John Carter</td>\n",
       "      <td>6.1</td>\n",
       "      <td>2124</td>\n",
       "      <td>John Carter is a war-weary, former military ca...</td>\n",
       "      <td>Lost in our world, found in another.</td>\n",
       "      <td>49529</td>\n",
       "      <td>4766</td>\n",
       "    </tr>\n",
       "    <tr>\n",
       "      <th>...</th>\n",
       "      <td>...</td>\n",
       "      <td>...</td>\n",
       "      <td>...</td>\n",
       "      <td>...</td>\n",
       "      <td>...</td>\n",
       "      <td>...</td>\n",
       "      <td>...</td>\n",
       "      <td>...</td>\n",
       "      <td>...</td>\n",
       "      <td>...</td>\n",
       "      <td>...</td>\n",
       "      <td>...</td>\n",
       "      <td>...</td>\n",
       "    </tr>\n",
       "    <tr>\n",
       "      <th>4768</th>\n",
       "      <td>48395</td>\n",
       "      <td>El Mariachi</td>\n",
       "      <td>220000</td>\n",
       "      <td>14</td>\n",
       "      <td>1992-09-04</td>\n",
       "      <td>2040920</td>\n",
       "      <td>El Mariachi</td>\n",
       "      <td>6.6</td>\n",
       "      <td>238</td>\n",
       "      <td>El Mariachi just wants to play his guitar and ...</td>\n",
       "      <td>He didn't come looking for trouble, but troubl...</td>\n",
       "      <td>9367</td>\n",
       "      <td>5097</td>\n",
       "    </tr>\n",
       "    <tr>\n",
       "      <th>4769</th>\n",
       "      <td>48396</td>\n",
       "      <td>Newlyweds</td>\n",
       "      <td>9000</td>\n",
       "      <td>0</td>\n",
       "      <td>2011-12-26</td>\n",
       "      <td>0</td>\n",
       "      <td>Newlyweds</td>\n",
       "      <td>5.9</td>\n",
       "      <td>5</td>\n",
       "      <td>A newlywed couple's honeymoon is upended by th...</td>\n",
       "      <td>A newlywed couple's honeymoon is upended by th...</td>\n",
       "      <td>72766</td>\n",
       "      <td>6485</td>\n",
       "    </tr>\n",
       "    <tr>\n",
       "      <th>4770</th>\n",
       "      <td>48397</td>\n",
       "      <td>Signed, Sealed, Delivered</td>\n",
       "      <td>0</td>\n",
       "      <td>1</td>\n",
       "      <td>2013-10-13</td>\n",
       "      <td>0</td>\n",
       "      <td>Signed, Sealed, Delivered</td>\n",
       "      <td>7.0</td>\n",
       "      <td>6</td>\n",
       "      <td>\"Signed, Sealed, Delivered\" introduces a dedic...</td>\n",
       "      <td>None</td>\n",
       "      <td>231617</td>\n",
       "      <td>7108</td>\n",
       "    </tr>\n",
       "    <tr>\n",
       "      <th>4771</th>\n",
       "      <td>48398</td>\n",
       "      <td>Shanghai Calling</td>\n",
       "      <td>0</td>\n",
       "      <td>0</td>\n",
       "      <td>2012-05-03</td>\n",
       "      <td>0</td>\n",
       "      <td>Shanghai Calling</td>\n",
       "      <td>5.7</td>\n",
       "      <td>7</td>\n",
       "      <td>When ambitious New York attorney Sam is sent t...</td>\n",
       "      <td>A New Yorker in Shanghai</td>\n",
       "      <td>126186</td>\n",
       "      <td>7109</td>\n",
       "    </tr>\n",
       "    <tr>\n",
       "      <th>4772</th>\n",
       "      <td>48399</td>\n",
       "      <td>My Date with Drew</td>\n",
       "      <td>0</td>\n",
       "      <td>1</td>\n",
       "      <td>2005-08-05</td>\n",
       "      <td>0</td>\n",
       "      <td>My Date with Drew</td>\n",
       "      <td>6.3</td>\n",
       "      <td>16</td>\n",
       "      <td>Ever since the second grade when he first saw ...</td>\n",
       "      <td>None</td>\n",
       "      <td>25975</td>\n",
       "      <td>7110</td>\n",
       "    </tr>\n",
       "  </tbody>\n",
       "</table>\n",
       "<p>4773 rows × 13 columns</p>\n",
       "</div>"
      ],
      "text/plain": [
       "         id                            original_title     budget  popularity   \n",
       "0     43597                                    Avatar  237000000         150  \\\n",
       "1     43598  Pirates of the Caribbean: At World's End  300000000         139   \n",
       "2     43599                                   Spectre  245000000         107   \n",
       "3     43600                     The Dark Knight Rises  250000000         112   \n",
       "4     43601                               John Carter  260000000          43   \n",
       "...     ...                                       ...        ...         ...   \n",
       "4768  48395                               El Mariachi     220000          14   \n",
       "4769  48396                                 Newlyweds       9000           0   \n",
       "4770  48397                 Signed, Sealed, Delivered          0           1   \n",
       "4771  48398                          Shanghai Calling          0           0   \n",
       "4772  48399                         My Date with Drew          0           1   \n",
       "\n",
       "     release_date     revenue                                     title   \n",
       "0      2009-12-10  2787965087                                    Avatar  \\\n",
       "1      2007-05-19   961000000  Pirates of the Caribbean: At World's End   \n",
       "2      2015-10-26   880674609                                   Spectre   \n",
       "3      2012-07-16  1084939099                     The Dark Knight Rises   \n",
       "4      2012-03-07   284139100                               John Carter   \n",
       "...           ...         ...                                       ...   \n",
       "4768   1992-09-04     2040920                               El Mariachi   \n",
       "4769   2011-12-26           0                                 Newlyweds   \n",
       "4770   2013-10-13           0                 Signed, Sealed, Delivered   \n",
       "4771   2012-05-03           0                          Shanghai Calling   \n",
       "4772   2005-08-05           0                         My Date with Drew   \n",
       "\n",
       "      vote_average  vote_count   \n",
       "0              7.2       11800  \\\n",
       "1              6.9        4500   \n",
       "2              6.3        4466   \n",
       "3              7.6        9106   \n",
       "4              6.1        2124   \n",
       "...            ...         ...   \n",
       "4768           6.6         238   \n",
       "4769           5.9           5   \n",
       "4770           7.0           6   \n",
       "4771           5.7           7   \n",
       "4772           6.3          16   \n",
       "\n",
       "                                               overview   \n",
       "0     In the 22nd century, a paraplegic Marine is di...  \\\n",
       "1     Captain Barbossa, long believed to be dead, ha...   \n",
       "2     A cryptic message from Bond’s past sends him o...   \n",
       "3     Following the death of District Attorney Harve...   \n",
       "4     John Carter is a war-weary, former military ca...   \n",
       "...                                                 ...   \n",
       "4768  El Mariachi just wants to play his guitar and ...   \n",
       "4769  A newlywed couple's honeymoon is upended by th...   \n",
       "4770  \"Signed, Sealed, Delivered\" introduces a dedic...   \n",
       "4771  When ambitious New York attorney Sam is sent t...   \n",
       "4772  Ever since the second grade when he first saw ...   \n",
       "\n",
       "                                                tagline     uid  director_id  \n",
       "0                           Enter the World of Pandora.   19995         4762  \n",
       "1        At the end of the world, the adventure begins.     285         4763  \n",
       "2                                 A Plan No One Escapes  206647         4764  \n",
       "3                                       The Legend Ends   49026         4765  \n",
       "4                  Lost in our world, found in another.   49529         4766  \n",
       "...                                                 ...     ...          ...  \n",
       "4768  He didn't come looking for trouble, but troubl...    9367         5097  \n",
       "4769  A newlywed couple's honeymoon is upended by th...   72766         6485  \n",
       "4770                                               None  231617         7108  \n",
       "4771                           A New Yorker in Shanghai  126186         7109  \n",
       "4772                                               None   25975         7110  \n",
       "\n",
       "[4773 rows x 13 columns]"
      ]
     },
     "execution_count": 6,
     "metadata": {},
     "output_type": "execute_result"
    }
   ],
   "source": [
    "movie_df"
   ]
  },
  {
   "cell_type": "code",
   "execution_count": 7,
   "metadata": {
    "ExecuteTime": {
     "end_time": "2023-07-01T03:55:33.557669500Z",
     "start_time": "2023-07-01T03:55:33.042432400Z"
    },
    "collapsed": false
   },
   "outputs": [
    {
     "name": "stdout",
     "output_type": "stream",
     "text": [
      "<class 'pandas.core.frame.DataFrame'>\n",
      "RangeIndex: 4773 entries, 0 to 4772\n",
      "Data columns (total 13 columns):\n",
      " #   Column          Non-Null Count  Dtype  \n",
      "---  ------          --------------  -----  \n",
      " 0   id              4773 non-null   int64  \n",
      " 1   original_title  4773 non-null   object \n",
      " 2   budget          4773 non-null   int64  \n",
      " 3   popularity      4773 non-null   int64  \n",
      " 4   release_date    4773 non-null   object \n",
      " 5   revenue         4773 non-null   int64  \n",
      " 6   title           4773 non-null   object \n",
      " 7   vote_average    4773 non-null   float64\n",
      " 8   vote_count      4773 non-null   int64  \n",
      " 9   overview        4770 non-null   object \n",
      " 10  tagline         3951 non-null   object \n",
      " 11  uid             4773 non-null   int64  \n",
      " 12  director_id     4773 non-null   int64  \n",
      "dtypes: float64(1), int64(7), object(5)\n",
      "memory usage: 484.9+ KB\n"
     ]
    }
   ],
   "source": [
    "movie_df.info()"
   ]
  },
  {
   "cell_type": "markdown",
   "metadata": {
    "collapsed": false
   },
   "source": [
    "## 3. Get all the data about directors?"
   ]
  },
  {
   "cell_type": "code",
   "execution_count": 8,
   "metadata": {
    "ExecuteTime": {
     "end_time": "2023-07-01T03:55:33.576659800Z",
     "start_time": "2023-07-01T03:55:33.054398800Z"
    },
    "collapsed": false
   },
   "outputs": [],
   "source": [
    "cur.execute(\"SELECT * FROM directors\")\n",
    "directors = cur.fetchall()"
   ]
  },
  {
   "cell_type": "code",
   "execution_count": 9,
   "metadata": {
    "ExecuteTime": {
     "end_time": "2023-07-01T03:55:33.580648500Z",
     "start_time": "2023-07-01T03:55:33.066150Z"
    },
    "collapsed": false
   },
   "outputs": [],
   "source": [
    "directors_df = pd.DataFrame(directors, columns=['name', 'id', 'gender', 'uid', 'department'])"
   ]
  },
  {
   "cell_type": "code",
   "execution_count": 10,
   "metadata": {
    "ExecuteTime": {
     "end_time": "2023-07-01T03:55:33.581644300Z",
     "start_time": "2023-07-01T03:55:33.072922500Z"
    },
    "collapsed": false
   },
   "outputs": [
    {
     "data": {
      "text/html": [
       "<div>\n",
       "<style scoped>\n",
       "    .dataframe tbody tr th:only-of-type {\n",
       "        vertical-align: middle;\n",
       "    }\n",
       "\n",
       "    .dataframe tbody tr th {\n",
       "        vertical-align: top;\n",
       "    }\n",
       "\n",
       "    .dataframe thead th {\n",
       "        text-align: right;\n",
       "    }\n",
       "</style>\n",
       "<table border=\"1\" class=\"dataframe\">\n",
       "  <thead>\n",
       "    <tr style=\"text-align: right;\">\n",
       "      <th></th>\n",
       "      <th>name</th>\n",
       "      <th>id</th>\n",
       "      <th>gender</th>\n",
       "      <th>uid</th>\n",
       "      <th>department</th>\n",
       "    </tr>\n",
       "  </thead>\n",
       "  <tbody>\n",
       "    <tr>\n",
       "      <th>0</th>\n",
       "      <td>James Cameron</td>\n",
       "      <td>4762</td>\n",
       "      <td>2</td>\n",
       "      <td>2710</td>\n",
       "      <td>Directing</td>\n",
       "    </tr>\n",
       "    <tr>\n",
       "      <th>1</th>\n",
       "      <td>Gore Verbinski</td>\n",
       "      <td>4763</td>\n",
       "      <td>2</td>\n",
       "      <td>1704</td>\n",
       "      <td>Directing</td>\n",
       "    </tr>\n",
       "    <tr>\n",
       "      <th>2</th>\n",
       "      <td>Sam Mendes</td>\n",
       "      <td>4764</td>\n",
       "      <td>2</td>\n",
       "      <td>39</td>\n",
       "      <td>Directing</td>\n",
       "    </tr>\n",
       "    <tr>\n",
       "      <th>3</th>\n",
       "      <td>Christopher Nolan</td>\n",
       "      <td>4765</td>\n",
       "      <td>2</td>\n",
       "      <td>525</td>\n",
       "      <td>Directing</td>\n",
       "    </tr>\n",
       "    <tr>\n",
       "      <th>4</th>\n",
       "      <td>Andrew Stanton</td>\n",
       "      <td>4766</td>\n",
       "      <td>2</td>\n",
       "      <td>7</td>\n",
       "      <td>Directing</td>\n",
       "    </tr>\n",
       "  </tbody>\n",
       "</table>\n",
       "</div>"
      ],
      "text/plain": [
       "                name    id  gender   uid department\n",
       "0      James Cameron  4762       2  2710  Directing\n",
       "1     Gore Verbinski  4763       2  1704  Directing\n",
       "2         Sam Mendes  4764       2    39  Directing\n",
       "3  Christopher Nolan  4765       2   525  Directing\n",
       "4     Andrew Stanton  4766       2     7  Directing"
      ]
     },
     "execution_count": 10,
     "metadata": {},
     "output_type": "execute_result"
    }
   ],
   "source": [
    "directors_df.head()"
   ]
  },
  {
   "cell_type": "markdown",
   "metadata": {
    "collapsed": false
   },
   "source": [
    "## 4. Check how many movies are present in IMDB table"
   ]
  },
  {
   "cell_type": "code",
   "execution_count": 11,
   "metadata": {
    "ExecuteTime": {
     "end_time": "2023-07-01T03:55:33.598087400Z",
     "start_time": "2023-07-01T03:55:33.081943Z"
    },
    "collapsed": false
   },
   "outputs": [],
   "source": [
    "cur.execute('SELECT COUNT(TITLE) FROM movies')\n",
    "count = cur.fetchall()"
   ]
  },
  {
   "cell_type": "code",
   "execution_count": 12,
   "metadata": {
    "ExecuteTime": {
     "end_time": "2023-07-01T03:55:33.598087400Z",
     "start_time": "2023-07-01T03:55:33.090168500Z"
    },
    "collapsed": false
   },
   "outputs": [
    {
     "name": "stdout",
     "output_type": "stream",
     "text": [
      "Number of the movies present in IMDB database is (4773,)\n"
     ]
    }
   ],
   "source": [
    "print(f\"Number of the movies present in IMDB database is {count[0]}\")"
   ]
  },
  {
   "cell_type": "markdown",
   "metadata": {
    "collapsed": false
   },
   "source": [
    "## 5. Find these 3 directors: James cameron, luc Besson, John Woo"
   ]
  },
  {
   "cell_type": "code",
   "execution_count": 13,
   "metadata": {
    "ExecuteTime": {
     "end_time": "2023-07-01T03:55:33.603073900Z",
     "start_time": "2023-07-01T03:55:33.093670Z"
    },
    "collapsed": false
   },
   "outputs": [],
   "source": [
    "cur.execute('select * from directors where name in (\"James Cameron\", \"Luc Besson\", \"John Woo\")')\n",
    "three_directors = cur.fetchall()"
   ]
  },
  {
   "cell_type": "code",
   "execution_count": 14,
   "metadata": {
    "ExecuteTime": {
     "end_time": "2023-07-01T03:55:33.603073900Z",
     "start_time": "2023-07-01T03:55:33.097935100Z"
    },
    "collapsed": false
   },
   "outputs": [
    {
     "name": "stdout",
     "output_type": "stream",
     "text": [
      "these three directors data are : [('James Cameron', 4762, 2, 2710, 'Directing'), ('John Woo', 4893, 2, 11401, 'Directing'), ('Luc Besson', 4949, 2, 59, 'Directing')]\n"
     ]
    }
   ],
   "source": [
    "print(f'these three directors data are : {three_directors}')"
   ]
  },
  {
   "cell_type": "markdown",
   "metadata": {
    "collapsed": false
   },
   "source": [
    "## 6. Find all the directors with name starting with \"Steven\""
   ]
  },
  {
   "cell_type": "code",
   "execution_count": 15,
   "metadata": {
    "ExecuteTime": {
     "end_time": "2023-07-01T03:55:33.603073900Z",
     "start_time": "2023-07-01T03:55:33.104940600Z"
    },
    "collapsed": false
   },
   "outputs": [],
   "source": [
    "cur.execute('select * from directors where name like \"Steven%\"')\n",
    "name_like = cur.fetchall()"
   ]
  },
  {
   "cell_type": "code",
   "execution_count": 16,
   "metadata": {
    "ExecuteTime": {
     "end_time": "2023-07-01T03:55:33.603073900Z",
     "start_time": "2023-07-01T03:55:33.109837600Z"
    },
    "collapsed": false
   },
   "outputs": [
    {
     "name": "stdout",
     "output_type": "stream",
     "text": [
      "The directors whose names are starting with the word 'Steven' are  : [('Steven Spielberg', 4799, 2, 488, 'Directing'), ('Steven Soderbergh', 4909, 2, 1884, 'Directing'), ('Steven Brill', 5013, 2, 32593, 'Directing'), ('Steven Zaillian', 5117, 2, 2260, 'Directing'), ('Steven Quale', 5216, 2, 93214, 'Directing'), ('Steven Seagal', 5221, 2, 23880, 'Directing'), ('Steven E. de Souza', 5390, 2, 1726, 'Directing'), ('Steven Shainberg', 5803, 2, 67795, 'Directing'), ('Steven R. Monroe', 6713, 2, 88039, 'Directing')]\n"
     ]
    }
   ],
   "source": [
    "print(f\"The directors whose names are starting with the word 'Steven' are  : {name_like}\")"
   ]
  },
  {
   "cell_type": "markdown",
   "metadata": {
    "collapsed": false
   },
   "source": [
    "## 7. Count the female directors"
   ]
  },
  {
   "cell_type": "code",
   "execution_count": 17,
   "metadata": {
    "ExecuteTime": {
     "end_time": "2023-07-01T03:55:33.621026900Z",
     "start_time": "2023-07-01T03:55:33.120871900Z"
    },
    "collapsed": false
   },
   "outputs": [],
   "source": [
    "cur.execute('select count(id) from directors where gender==\"1\"')\n",
    "females = cur.fetchall()\n"
   ]
  },
  {
   "cell_type": "code",
   "execution_count": 18,
   "metadata": {
    "ExecuteTime": {
     "end_time": "2023-07-01T03:55:33.622024100Z",
     "start_time": "2023-07-01T03:55:33.125847700Z"
    },
    "collapsed": false
   },
   "outputs": [
    {
     "name": "stdout",
     "output_type": "stream",
     "text": [
      "The number of female directors is 150\n"
     ]
    }
   ],
   "source": [
    "print(f\"The number of female directors is {females[0][0]}\")"
   ]
  },
  {
   "cell_type": "markdown",
   "metadata": {
    "collapsed": false
   },
   "source": [
    "## 8. Find the name of the 10th first women directors"
   ]
  },
  {
   "cell_type": "code",
   "execution_count": 19,
   "metadata": {
    "ExecuteTime": {
     "end_time": "2023-07-01T03:55:33.622024100Z",
     "start_time": "2023-07-01T03:55:33.129452500Z"
    },
    "collapsed": false
   },
   "outputs": [],
   "source": [
    "cur.execute('select name from directors where gender==1')\n",
    "tenth = cur.fetchall()"
   ]
  },
  {
   "cell_type": "code",
   "execution_count": 20,
   "metadata": {
    "ExecuteTime": {
     "end_time": "2023-07-01T03:55:33.623027700Z",
     "start_time": "2023-07-01T03:55:33.134338300Z"
    },
    "collapsed": false
   },
   "outputs": [
    {
     "name": "stdout",
     "output_type": "stream",
     "text": [
      "The tenth first women is Angelina Jolie\n"
     ]
    }
   ],
   "source": [
    "print(f\"The tenth first women is {tenth[9][0]}\")"
   ]
  },
  {
   "cell_type": "markdown",
   "metadata": {
    "collapsed": false
   },
   "source": [
    "## 9. What are the 3 most popular movies"
   ]
  },
  {
   "cell_type": "code",
   "execution_count": 21,
   "metadata": {
    "ExecuteTime": {
     "end_time": "2023-07-01T03:55:33.638982700Z",
     "start_time": "2023-07-01T03:55:33.140935700Z"
    },
    "collapsed": false
   },
   "outputs": [
    {
     "data": {
      "text/html": [
       "<div>\n",
       "<style scoped>\n",
       "    .dataframe tbody tr th:only-of-type {\n",
       "        vertical-align: middle;\n",
       "    }\n",
       "\n",
       "    .dataframe tbody tr th {\n",
       "        vertical-align: top;\n",
       "    }\n",
       "\n",
       "    .dataframe thead th {\n",
       "        text-align: right;\n",
       "    }\n",
       "</style>\n",
       "<table border=\"1\" class=\"dataframe\">\n",
       "  <thead>\n",
       "    <tr style=\"text-align: right;\">\n",
       "      <th></th>\n",
       "      <th>id</th>\n",
       "      <th>original_title</th>\n",
       "      <th>budget</th>\n",
       "      <th>popularity</th>\n",
       "      <th>release_date</th>\n",
       "      <th>revenue</th>\n",
       "      <th>title</th>\n",
       "      <th>vote_average</th>\n",
       "      <th>vote_count</th>\n",
       "      <th>overview</th>\n",
       "      <th>tagline</th>\n",
       "      <th>uid</th>\n",
       "      <th>director_id</th>\n",
       "    </tr>\n",
       "  </thead>\n",
       "  <tbody>\n",
       "    <tr>\n",
       "      <th>0</th>\n",
       "      <td>43597</td>\n",
       "      <td>Avatar</td>\n",
       "      <td>237000000</td>\n",
       "      <td>150</td>\n",
       "      <td>2009-12-10</td>\n",
       "      <td>2787965087</td>\n",
       "      <td>Avatar</td>\n",
       "      <td>7.2</td>\n",
       "      <td>11800</td>\n",
       "      <td>In the 22nd century, a paraplegic Marine is di...</td>\n",
       "      <td>Enter the World of Pandora.</td>\n",
       "      <td>19995</td>\n",
       "      <td>4762</td>\n",
       "    </tr>\n",
       "    <tr>\n",
       "      <th>1</th>\n",
       "      <td>43598</td>\n",
       "      <td>Pirates of the Caribbean: At World's End</td>\n",
       "      <td>300000000</td>\n",
       "      <td>139</td>\n",
       "      <td>2007-05-19</td>\n",
       "      <td>961000000</td>\n",
       "      <td>Pirates of the Caribbean: At World's End</td>\n",
       "      <td>6.9</td>\n",
       "      <td>4500</td>\n",
       "      <td>Captain Barbossa, long believed to be dead, ha...</td>\n",
       "      <td>At the end of the world, the adventure begins.</td>\n",
       "      <td>285</td>\n",
       "      <td>4763</td>\n",
       "    </tr>\n",
       "    <tr>\n",
       "      <th>2</th>\n",
       "      <td>43599</td>\n",
       "      <td>Spectre</td>\n",
       "      <td>245000000</td>\n",
       "      <td>107</td>\n",
       "      <td>2015-10-26</td>\n",
       "      <td>880674609</td>\n",
       "      <td>Spectre</td>\n",
       "      <td>6.3</td>\n",
       "      <td>4466</td>\n",
       "      <td>A cryptic message from Bond’s past sends him o...</td>\n",
       "      <td>A Plan No One Escapes</td>\n",
       "      <td>206647</td>\n",
       "      <td>4764</td>\n",
       "    </tr>\n",
       "    <tr>\n",
       "      <th>3</th>\n",
       "      <td>43600</td>\n",
       "      <td>The Dark Knight Rises</td>\n",
       "      <td>250000000</td>\n",
       "      <td>112</td>\n",
       "      <td>2012-07-16</td>\n",
       "      <td>1084939099</td>\n",
       "      <td>The Dark Knight Rises</td>\n",
       "      <td>7.6</td>\n",
       "      <td>9106</td>\n",
       "      <td>Following the death of District Attorney Harve...</td>\n",
       "      <td>The Legend Ends</td>\n",
       "      <td>49026</td>\n",
       "      <td>4765</td>\n",
       "    </tr>\n",
       "    <tr>\n",
       "      <th>4</th>\n",
       "      <td>43601</td>\n",
       "      <td>John Carter</td>\n",
       "      <td>260000000</td>\n",
       "      <td>43</td>\n",
       "      <td>2012-03-07</td>\n",
       "      <td>284139100</td>\n",
       "      <td>John Carter</td>\n",
       "      <td>6.1</td>\n",
       "      <td>2124</td>\n",
       "      <td>John Carter is a war-weary, former military ca...</td>\n",
       "      <td>Lost in our world, found in another.</td>\n",
       "      <td>49529</td>\n",
       "      <td>4766</td>\n",
       "    </tr>\n",
       "    <tr>\n",
       "      <th>...</th>\n",
       "      <td>...</td>\n",
       "      <td>...</td>\n",
       "      <td>...</td>\n",
       "      <td>...</td>\n",
       "      <td>...</td>\n",
       "      <td>...</td>\n",
       "      <td>...</td>\n",
       "      <td>...</td>\n",
       "      <td>...</td>\n",
       "      <td>...</td>\n",
       "      <td>...</td>\n",
       "      <td>...</td>\n",
       "      <td>...</td>\n",
       "    </tr>\n",
       "    <tr>\n",
       "      <th>4768</th>\n",
       "      <td>48395</td>\n",
       "      <td>El Mariachi</td>\n",
       "      <td>220000</td>\n",
       "      <td>14</td>\n",
       "      <td>1992-09-04</td>\n",
       "      <td>2040920</td>\n",
       "      <td>El Mariachi</td>\n",
       "      <td>6.6</td>\n",
       "      <td>238</td>\n",
       "      <td>El Mariachi just wants to play his guitar and ...</td>\n",
       "      <td>He didn't come looking for trouble, but troubl...</td>\n",
       "      <td>9367</td>\n",
       "      <td>5097</td>\n",
       "    </tr>\n",
       "    <tr>\n",
       "      <th>4769</th>\n",
       "      <td>48396</td>\n",
       "      <td>Newlyweds</td>\n",
       "      <td>9000</td>\n",
       "      <td>0</td>\n",
       "      <td>2011-12-26</td>\n",
       "      <td>0</td>\n",
       "      <td>Newlyweds</td>\n",
       "      <td>5.9</td>\n",
       "      <td>5</td>\n",
       "      <td>A newlywed couple's honeymoon is upended by th...</td>\n",
       "      <td>A newlywed couple's honeymoon is upended by th...</td>\n",
       "      <td>72766</td>\n",
       "      <td>6485</td>\n",
       "    </tr>\n",
       "    <tr>\n",
       "      <th>4770</th>\n",
       "      <td>48397</td>\n",
       "      <td>Signed, Sealed, Delivered</td>\n",
       "      <td>0</td>\n",
       "      <td>1</td>\n",
       "      <td>2013-10-13</td>\n",
       "      <td>0</td>\n",
       "      <td>Signed, Sealed, Delivered</td>\n",
       "      <td>7.0</td>\n",
       "      <td>6</td>\n",
       "      <td>\"Signed, Sealed, Delivered\" introduces a dedic...</td>\n",
       "      <td>None</td>\n",
       "      <td>231617</td>\n",
       "      <td>7108</td>\n",
       "    </tr>\n",
       "    <tr>\n",
       "      <th>4771</th>\n",
       "      <td>48398</td>\n",
       "      <td>Shanghai Calling</td>\n",
       "      <td>0</td>\n",
       "      <td>0</td>\n",
       "      <td>2012-05-03</td>\n",
       "      <td>0</td>\n",
       "      <td>Shanghai Calling</td>\n",
       "      <td>5.7</td>\n",
       "      <td>7</td>\n",
       "      <td>When ambitious New York attorney Sam is sent t...</td>\n",
       "      <td>A New Yorker in Shanghai</td>\n",
       "      <td>126186</td>\n",
       "      <td>7109</td>\n",
       "    </tr>\n",
       "    <tr>\n",
       "      <th>4772</th>\n",
       "      <td>48399</td>\n",
       "      <td>My Date with Drew</td>\n",
       "      <td>0</td>\n",
       "      <td>1</td>\n",
       "      <td>2005-08-05</td>\n",
       "      <td>0</td>\n",
       "      <td>My Date with Drew</td>\n",
       "      <td>6.3</td>\n",
       "      <td>16</td>\n",
       "      <td>Ever since the second grade when he first saw ...</td>\n",
       "      <td>None</td>\n",
       "      <td>25975</td>\n",
       "      <td>7110</td>\n",
       "    </tr>\n",
       "  </tbody>\n",
       "</table>\n",
       "<p>4773 rows × 13 columns</p>\n",
       "</div>"
      ],
      "text/plain": [
       "         id                            original_title     budget  popularity   \n",
       "0     43597                                    Avatar  237000000         150  \\\n",
       "1     43598  Pirates of the Caribbean: At World's End  300000000         139   \n",
       "2     43599                                   Spectre  245000000         107   \n",
       "3     43600                     The Dark Knight Rises  250000000         112   \n",
       "4     43601                               John Carter  260000000          43   \n",
       "...     ...                                       ...        ...         ...   \n",
       "4768  48395                               El Mariachi     220000          14   \n",
       "4769  48396                                 Newlyweds       9000           0   \n",
       "4770  48397                 Signed, Sealed, Delivered          0           1   \n",
       "4771  48398                          Shanghai Calling          0           0   \n",
       "4772  48399                         My Date with Drew          0           1   \n",
       "\n",
       "     release_date     revenue                                     title   \n",
       "0      2009-12-10  2787965087                                    Avatar  \\\n",
       "1      2007-05-19   961000000  Pirates of the Caribbean: At World's End   \n",
       "2      2015-10-26   880674609                                   Spectre   \n",
       "3      2012-07-16  1084939099                     The Dark Knight Rises   \n",
       "4      2012-03-07   284139100                               John Carter   \n",
       "...           ...         ...                                       ...   \n",
       "4768   1992-09-04     2040920                               El Mariachi   \n",
       "4769   2011-12-26           0                                 Newlyweds   \n",
       "4770   2013-10-13           0                 Signed, Sealed, Delivered   \n",
       "4771   2012-05-03           0                          Shanghai Calling   \n",
       "4772   2005-08-05           0                         My Date with Drew   \n",
       "\n",
       "      vote_average  vote_count   \n",
       "0              7.2       11800  \\\n",
       "1              6.9        4500   \n",
       "2              6.3        4466   \n",
       "3              7.6        9106   \n",
       "4              6.1        2124   \n",
       "...            ...         ...   \n",
       "4768           6.6         238   \n",
       "4769           5.9           5   \n",
       "4770           7.0           6   \n",
       "4771           5.7           7   \n",
       "4772           6.3          16   \n",
       "\n",
       "                                               overview   \n",
       "0     In the 22nd century, a paraplegic Marine is di...  \\\n",
       "1     Captain Barbossa, long believed to be dead, ha...   \n",
       "2     A cryptic message from Bond’s past sends him o...   \n",
       "3     Following the death of District Attorney Harve...   \n",
       "4     John Carter is a war-weary, former military ca...   \n",
       "...                                                 ...   \n",
       "4768  El Mariachi just wants to play his guitar and ...   \n",
       "4769  A newlywed couple's honeymoon is upended by th...   \n",
       "4770  \"Signed, Sealed, Delivered\" introduces a dedic...   \n",
       "4771  When ambitious New York attorney Sam is sent t...   \n",
       "4772  Ever since the second grade when he first saw ...   \n",
       "\n",
       "                                                tagline     uid  director_id  \n",
       "0                           Enter the World of Pandora.   19995         4762  \n",
       "1        At the end of the world, the adventure begins.     285         4763  \n",
       "2                                 A Plan No One Escapes  206647         4764  \n",
       "3                                       The Legend Ends   49026         4765  \n",
       "4                  Lost in our world, found in another.   49529         4766  \n",
       "...                                                 ...     ...          ...  \n",
       "4768  He didn't come looking for trouble, but troubl...    9367         5097  \n",
       "4769  A newlywed couple's honeymoon is upended by th...   72766         6485  \n",
       "4770                                               None  231617         7108  \n",
       "4771                           A New Yorker in Shanghai  126186         7109  \n",
       "4772                                               None   25975         7110  \n",
       "\n",
       "[4773 rows x 13 columns]"
      ]
     },
     "execution_count": 21,
     "metadata": {},
     "output_type": "execute_result"
    }
   ],
   "source": [
    "movie_df"
   ]
  },
  {
   "cell_type": "code",
   "execution_count": 22,
   "metadata": {
    "ExecuteTime": {
     "end_time": "2023-07-01T03:55:33.643964100Z",
     "start_time": "2023-07-01T03:55:33.155664300Z"
    },
    "collapsed": false
   },
   "outputs": [],
   "source": [
    "cur.execute('select original_title from movies order by popularity desc limit 3')\n",
    "most_popular = cur.fetchall()\n"
   ]
  },
  {
   "cell_type": "code",
   "execution_count": 23,
   "metadata": {
    "ExecuteTime": {
     "end_time": "2023-07-01T03:55:33.644961500Z",
     "start_time": "2023-07-01T03:55:33.164745800Z"
    },
    "collapsed": false
   },
   "outputs": [
    {
     "name": "stdout",
     "output_type": "stream",
     "text": [
      "The 3 most popular movies are  : Minions, Interstellar and Deadpool\n"
     ]
    }
   ],
   "source": [
    "print(f\"The 3 most popular movies are  : {most_popular[0][0]}, {most_popular[1][0]} and {most_popular[2][0]}\")"
   ]
  },
  {
   "cell_type": "markdown",
   "metadata": {
    "collapsed": false
   },
   "source": [
    "## 10. What are the 3 most bankable movies?"
   ]
  },
  {
   "cell_type": "code",
   "execution_count": 24,
   "metadata": {
    "ExecuteTime": {
     "end_time": "2023-07-01T03:55:33.644961500Z",
     "start_time": "2023-07-01T03:55:33.168874200Z"
    },
    "collapsed": false
   },
   "outputs": [
    {
     "data": {
      "text/html": [
       "<div>\n",
       "<style scoped>\n",
       "    .dataframe tbody tr th:only-of-type {\n",
       "        vertical-align: middle;\n",
       "    }\n",
       "\n",
       "    .dataframe tbody tr th {\n",
       "        vertical-align: top;\n",
       "    }\n",
       "\n",
       "    .dataframe thead th {\n",
       "        text-align: right;\n",
       "    }\n",
       "</style>\n",
       "<table border=\"1\" class=\"dataframe\">\n",
       "  <thead>\n",
       "    <tr style=\"text-align: right;\">\n",
       "      <th></th>\n",
       "      <th>id</th>\n",
       "      <th>original_title</th>\n",
       "      <th>budget</th>\n",
       "      <th>popularity</th>\n",
       "      <th>release_date</th>\n",
       "      <th>revenue</th>\n",
       "      <th>title</th>\n",
       "      <th>vote_average</th>\n",
       "      <th>vote_count</th>\n",
       "      <th>overview</th>\n",
       "      <th>tagline</th>\n",
       "      <th>uid</th>\n",
       "      <th>director_id</th>\n",
       "    </tr>\n",
       "  </thead>\n",
       "  <tbody>\n",
       "    <tr>\n",
       "      <th>0</th>\n",
       "      <td>43597</td>\n",
       "      <td>Avatar</td>\n",
       "      <td>237000000</td>\n",
       "      <td>150</td>\n",
       "      <td>2009-12-10</td>\n",
       "      <td>2787965087</td>\n",
       "      <td>Avatar</td>\n",
       "      <td>7.2</td>\n",
       "      <td>11800</td>\n",
       "      <td>In the 22nd century, a paraplegic Marine is di...</td>\n",
       "      <td>Enter the World of Pandora.</td>\n",
       "      <td>19995</td>\n",
       "      <td>4762</td>\n",
       "    </tr>\n",
       "    <tr>\n",
       "      <th>1</th>\n",
       "      <td>43598</td>\n",
       "      <td>Pirates of the Caribbean: At World's End</td>\n",
       "      <td>300000000</td>\n",
       "      <td>139</td>\n",
       "      <td>2007-05-19</td>\n",
       "      <td>961000000</td>\n",
       "      <td>Pirates of the Caribbean: At World's End</td>\n",
       "      <td>6.9</td>\n",
       "      <td>4500</td>\n",
       "      <td>Captain Barbossa, long believed to be dead, ha...</td>\n",
       "      <td>At the end of the world, the adventure begins.</td>\n",
       "      <td>285</td>\n",
       "      <td>4763</td>\n",
       "    </tr>\n",
       "    <tr>\n",
       "      <th>2</th>\n",
       "      <td>43599</td>\n",
       "      <td>Spectre</td>\n",
       "      <td>245000000</td>\n",
       "      <td>107</td>\n",
       "      <td>2015-10-26</td>\n",
       "      <td>880674609</td>\n",
       "      <td>Spectre</td>\n",
       "      <td>6.3</td>\n",
       "      <td>4466</td>\n",
       "      <td>A cryptic message from Bond’s past sends him o...</td>\n",
       "      <td>A Plan No One Escapes</td>\n",
       "      <td>206647</td>\n",
       "      <td>4764</td>\n",
       "    </tr>\n",
       "    <tr>\n",
       "      <th>3</th>\n",
       "      <td>43600</td>\n",
       "      <td>The Dark Knight Rises</td>\n",
       "      <td>250000000</td>\n",
       "      <td>112</td>\n",
       "      <td>2012-07-16</td>\n",
       "      <td>1084939099</td>\n",
       "      <td>The Dark Knight Rises</td>\n",
       "      <td>7.6</td>\n",
       "      <td>9106</td>\n",
       "      <td>Following the death of District Attorney Harve...</td>\n",
       "      <td>The Legend Ends</td>\n",
       "      <td>49026</td>\n",
       "      <td>4765</td>\n",
       "    </tr>\n",
       "    <tr>\n",
       "      <th>4</th>\n",
       "      <td>43601</td>\n",
       "      <td>John Carter</td>\n",
       "      <td>260000000</td>\n",
       "      <td>43</td>\n",
       "      <td>2012-03-07</td>\n",
       "      <td>284139100</td>\n",
       "      <td>John Carter</td>\n",
       "      <td>6.1</td>\n",
       "      <td>2124</td>\n",
       "      <td>John Carter is a war-weary, former military ca...</td>\n",
       "      <td>Lost in our world, found in another.</td>\n",
       "      <td>49529</td>\n",
       "      <td>4766</td>\n",
       "    </tr>\n",
       "  </tbody>\n",
       "</table>\n",
       "</div>"
      ],
      "text/plain": [
       "      id                            original_title     budget  popularity   \n",
       "0  43597                                    Avatar  237000000         150  \\\n",
       "1  43598  Pirates of the Caribbean: At World's End  300000000         139   \n",
       "2  43599                                   Spectre  245000000         107   \n",
       "3  43600                     The Dark Knight Rises  250000000         112   \n",
       "4  43601                               John Carter  260000000          43   \n",
       "\n",
       "  release_date     revenue                                     title   \n",
       "0   2009-12-10  2787965087                                    Avatar  \\\n",
       "1   2007-05-19   961000000  Pirates of the Caribbean: At World's End   \n",
       "2   2015-10-26   880674609                                   Spectre   \n",
       "3   2012-07-16  1084939099                     The Dark Knight Rises   \n",
       "4   2012-03-07   284139100                               John Carter   \n",
       "\n",
       "   vote_average  vote_count   \n",
       "0           7.2       11800  \\\n",
       "1           6.9        4500   \n",
       "2           6.3        4466   \n",
       "3           7.6        9106   \n",
       "4           6.1        2124   \n",
       "\n",
       "                                            overview   \n",
       "0  In the 22nd century, a paraplegic Marine is di...  \\\n",
       "1  Captain Barbossa, long believed to be dead, ha...   \n",
       "2  A cryptic message from Bond’s past sends him o...   \n",
       "3  Following the death of District Attorney Harve...   \n",
       "4  John Carter is a war-weary, former military ca...   \n",
       "\n",
       "                                          tagline     uid  director_id  \n",
       "0                     Enter the World of Pandora.   19995         4762  \n",
       "1  At the end of the world, the adventure begins.     285         4763  \n",
       "2                           A Plan No One Escapes  206647         4764  \n",
       "3                                 The Legend Ends   49026         4765  \n",
       "4            Lost in our world, found in another.   49529         4766  "
      ]
     },
     "execution_count": 24,
     "metadata": {},
     "output_type": "execute_result"
    }
   ],
   "source": [
    "movie_df.head()"
   ]
  },
  {
   "cell_type": "code",
   "execution_count": 25,
   "metadata": {
    "ExecuteTime": {
     "end_time": "2023-07-01T03:55:33.665417400Z",
     "start_time": "2023-07-01T03:55:33.181092300Z"
    },
    "collapsed": false
   },
   "outputs": [],
   "source": [
    "cur.execute('select original_title from movies order by budget desc limit 3')\n",
    "most_bankable = cur.fetchall()"
   ]
  },
  {
   "cell_type": "code",
   "execution_count": 26,
   "metadata": {
    "ExecuteTime": {
     "end_time": "2023-07-01T03:55:33.681449400Z",
     "start_time": "2023-07-01T03:55:33.191550Z"
    },
    "collapsed": false
   },
   "outputs": [
    {
     "name": "stdout",
     "output_type": "stream",
     "text": [
      "the 3 most bankable movies are Pirates of the Caribbean: On Stranger Tides, Pirates of the Caribbean: At World's End and Avengers: Age of Ultron\n"
     ]
    }
   ],
   "source": [
    "print(f\"the 3 most bankable movies are {most_bankable[0][0]}, {most_bankable[1][0]} and {most_bankable[2][0]}\")"
   ]
  },
  {
   "cell_type": "markdown",
   "metadata": {
    "collapsed": false
   },
   "source": [
    "## 11. What is the most awarded average vote movie since the jan 1st, 2000"
   ]
  },
  {
   "cell_type": "code",
   "execution_count": 27,
   "metadata": {
    "ExecuteTime": {
     "end_time": "2023-07-01T03:55:33.687433300Z",
     "start_time": "2023-07-01T03:55:33.196944800Z"
    },
    "collapsed": false
   },
   "outputs": [
    {
     "data": {
      "text/html": [
       "<div>\n",
       "<style scoped>\n",
       "    .dataframe tbody tr th:only-of-type {\n",
       "        vertical-align: middle;\n",
       "    }\n",
       "\n",
       "    .dataframe tbody tr th {\n",
       "        vertical-align: top;\n",
       "    }\n",
       "\n",
       "    .dataframe thead th {\n",
       "        text-align: right;\n",
       "    }\n",
       "</style>\n",
       "<table border=\"1\" class=\"dataframe\">\n",
       "  <thead>\n",
       "    <tr style=\"text-align: right;\">\n",
       "      <th></th>\n",
       "      <th>id</th>\n",
       "      <th>original_title</th>\n",
       "      <th>budget</th>\n",
       "      <th>popularity</th>\n",
       "      <th>release_date</th>\n",
       "      <th>revenue</th>\n",
       "      <th>title</th>\n",
       "      <th>vote_average</th>\n",
       "      <th>vote_count</th>\n",
       "      <th>overview</th>\n",
       "      <th>tagline</th>\n",
       "      <th>uid</th>\n",
       "      <th>director_id</th>\n",
       "    </tr>\n",
       "  </thead>\n",
       "  <tbody>\n",
       "    <tr>\n",
       "      <th>0</th>\n",
       "      <td>43597</td>\n",
       "      <td>Avatar</td>\n",
       "      <td>237000000</td>\n",
       "      <td>150</td>\n",
       "      <td>2009-12-10</td>\n",
       "      <td>2787965087</td>\n",
       "      <td>Avatar</td>\n",
       "      <td>7.2</td>\n",
       "      <td>11800</td>\n",
       "      <td>In the 22nd century, a paraplegic Marine is di...</td>\n",
       "      <td>Enter the World of Pandora.</td>\n",
       "      <td>19995</td>\n",
       "      <td>4762</td>\n",
       "    </tr>\n",
       "    <tr>\n",
       "      <th>1</th>\n",
       "      <td>43598</td>\n",
       "      <td>Pirates of the Caribbean: At World's End</td>\n",
       "      <td>300000000</td>\n",
       "      <td>139</td>\n",
       "      <td>2007-05-19</td>\n",
       "      <td>961000000</td>\n",
       "      <td>Pirates of the Caribbean: At World's End</td>\n",
       "      <td>6.9</td>\n",
       "      <td>4500</td>\n",
       "      <td>Captain Barbossa, long believed to be dead, ha...</td>\n",
       "      <td>At the end of the world, the adventure begins.</td>\n",
       "      <td>285</td>\n",
       "      <td>4763</td>\n",
       "    </tr>\n",
       "    <tr>\n",
       "      <th>2</th>\n",
       "      <td>43599</td>\n",
       "      <td>Spectre</td>\n",
       "      <td>245000000</td>\n",
       "      <td>107</td>\n",
       "      <td>2015-10-26</td>\n",
       "      <td>880674609</td>\n",
       "      <td>Spectre</td>\n",
       "      <td>6.3</td>\n",
       "      <td>4466</td>\n",
       "      <td>A cryptic message from Bond’s past sends him o...</td>\n",
       "      <td>A Plan No One Escapes</td>\n",
       "      <td>206647</td>\n",
       "      <td>4764</td>\n",
       "    </tr>\n",
       "    <tr>\n",
       "      <th>3</th>\n",
       "      <td>43600</td>\n",
       "      <td>The Dark Knight Rises</td>\n",
       "      <td>250000000</td>\n",
       "      <td>112</td>\n",
       "      <td>2012-07-16</td>\n",
       "      <td>1084939099</td>\n",
       "      <td>The Dark Knight Rises</td>\n",
       "      <td>7.6</td>\n",
       "      <td>9106</td>\n",
       "      <td>Following the death of District Attorney Harve...</td>\n",
       "      <td>The Legend Ends</td>\n",
       "      <td>49026</td>\n",
       "      <td>4765</td>\n",
       "    </tr>\n",
       "    <tr>\n",
       "      <th>4</th>\n",
       "      <td>43601</td>\n",
       "      <td>John Carter</td>\n",
       "      <td>260000000</td>\n",
       "      <td>43</td>\n",
       "      <td>2012-03-07</td>\n",
       "      <td>284139100</td>\n",
       "      <td>John Carter</td>\n",
       "      <td>6.1</td>\n",
       "      <td>2124</td>\n",
       "      <td>John Carter is a war-weary, former military ca...</td>\n",
       "      <td>Lost in our world, found in another.</td>\n",
       "      <td>49529</td>\n",
       "      <td>4766</td>\n",
       "    </tr>\n",
       "    <tr>\n",
       "      <th>...</th>\n",
       "      <td>...</td>\n",
       "      <td>...</td>\n",
       "      <td>...</td>\n",
       "      <td>...</td>\n",
       "      <td>...</td>\n",
       "      <td>...</td>\n",
       "      <td>...</td>\n",
       "      <td>...</td>\n",
       "      <td>...</td>\n",
       "      <td>...</td>\n",
       "      <td>...</td>\n",
       "      <td>...</td>\n",
       "      <td>...</td>\n",
       "    </tr>\n",
       "    <tr>\n",
       "      <th>4768</th>\n",
       "      <td>48395</td>\n",
       "      <td>El Mariachi</td>\n",
       "      <td>220000</td>\n",
       "      <td>14</td>\n",
       "      <td>1992-09-04</td>\n",
       "      <td>2040920</td>\n",
       "      <td>El Mariachi</td>\n",
       "      <td>6.6</td>\n",
       "      <td>238</td>\n",
       "      <td>El Mariachi just wants to play his guitar and ...</td>\n",
       "      <td>He didn't come looking for trouble, but troubl...</td>\n",
       "      <td>9367</td>\n",
       "      <td>5097</td>\n",
       "    </tr>\n",
       "    <tr>\n",
       "      <th>4769</th>\n",
       "      <td>48396</td>\n",
       "      <td>Newlyweds</td>\n",
       "      <td>9000</td>\n",
       "      <td>0</td>\n",
       "      <td>2011-12-26</td>\n",
       "      <td>0</td>\n",
       "      <td>Newlyweds</td>\n",
       "      <td>5.9</td>\n",
       "      <td>5</td>\n",
       "      <td>A newlywed couple's honeymoon is upended by th...</td>\n",
       "      <td>A newlywed couple's honeymoon is upended by th...</td>\n",
       "      <td>72766</td>\n",
       "      <td>6485</td>\n",
       "    </tr>\n",
       "    <tr>\n",
       "      <th>4770</th>\n",
       "      <td>48397</td>\n",
       "      <td>Signed, Sealed, Delivered</td>\n",
       "      <td>0</td>\n",
       "      <td>1</td>\n",
       "      <td>2013-10-13</td>\n",
       "      <td>0</td>\n",
       "      <td>Signed, Sealed, Delivered</td>\n",
       "      <td>7.0</td>\n",
       "      <td>6</td>\n",
       "      <td>\"Signed, Sealed, Delivered\" introduces a dedic...</td>\n",
       "      <td>None</td>\n",
       "      <td>231617</td>\n",
       "      <td>7108</td>\n",
       "    </tr>\n",
       "    <tr>\n",
       "      <th>4771</th>\n",
       "      <td>48398</td>\n",
       "      <td>Shanghai Calling</td>\n",
       "      <td>0</td>\n",
       "      <td>0</td>\n",
       "      <td>2012-05-03</td>\n",
       "      <td>0</td>\n",
       "      <td>Shanghai Calling</td>\n",
       "      <td>5.7</td>\n",
       "      <td>7</td>\n",
       "      <td>When ambitious New York attorney Sam is sent t...</td>\n",
       "      <td>A New Yorker in Shanghai</td>\n",
       "      <td>126186</td>\n",
       "      <td>7109</td>\n",
       "    </tr>\n",
       "    <tr>\n",
       "      <th>4772</th>\n",
       "      <td>48399</td>\n",
       "      <td>My Date with Drew</td>\n",
       "      <td>0</td>\n",
       "      <td>1</td>\n",
       "      <td>2005-08-05</td>\n",
       "      <td>0</td>\n",
       "      <td>My Date with Drew</td>\n",
       "      <td>6.3</td>\n",
       "      <td>16</td>\n",
       "      <td>Ever since the second grade when he first saw ...</td>\n",
       "      <td>None</td>\n",
       "      <td>25975</td>\n",
       "      <td>7110</td>\n",
       "    </tr>\n",
       "  </tbody>\n",
       "</table>\n",
       "<p>4773 rows × 13 columns</p>\n",
       "</div>"
      ],
      "text/plain": [
       "         id                            original_title     budget  popularity   \n",
       "0     43597                                    Avatar  237000000         150  \\\n",
       "1     43598  Pirates of the Caribbean: At World's End  300000000         139   \n",
       "2     43599                                   Spectre  245000000         107   \n",
       "3     43600                     The Dark Knight Rises  250000000         112   \n",
       "4     43601                               John Carter  260000000          43   \n",
       "...     ...                                       ...        ...         ...   \n",
       "4768  48395                               El Mariachi     220000          14   \n",
       "4769  48396                                 Newlyweds       9000           0   \n",
       "4770  48397                 Signed, Sealed, Delivered          0           1   \n",
       "4771  48398                          Shanghai Calling          0           0   \n",
       "4772  48399                         My Date with Drew          0           1   \n",
       "\n",
       "     release_date     revenue                                     title   \n",
       "0      2009-12-10  2787965087                                    Avatar  \\\n",
       "1      2007-05-19   961000000  Pirates of the Caribbean: At World's End   \n",
       "2      2015-10-26   880674609                                   Spectre   \n",
       "3      2012-07-16  1084939099                     The Dark Knight Rises   \n",
       "4      2012-03-07   284139100                               John Carter   \n",
       "...           ...         ...                                       ...   \n",
       "4768   1992-09-04     2040920                               El Mariachi   \n",
       "4769   2011-12-26           0                                 Newlyweds   \n",
       "4770   2013-10-13           0                 Signed, Sealed, Delivered   \n",
       "4771   2012-05-03           0                          Shanghai Calling   \n",
       "4772   2005-08-05           0                         My Date with Drew   \n",
       "\n",
       "      vote_average  vote_count   \n",
       "0              7.2       11800  \\\n",
       "1              6.9        4500   \n",
       "2              6.3        4466   \n",
       "3              7.6        9106   \n",
       "4              6.1        2124   \n",
       "...            ...         ...   \n",
       "4768           6.6         238   \n",
       "4769           5.9           5   \n",
       "4770           7.0           6   \n",
       "4771           5.7           7   \n",
       "4772           6.3          16   \n",
       "\n",
       "                                               overview   \n",
       "0     In the 22nd century, a paraplegic Marine is di...  \\\n",
       "1     Captain Barbossa, long believed to be dead, ha...   \n",
       "2     A cryptic message from Bond’s past sends him o...   \n",
       "3     Following the death of District Attorney Harve...   \n",
       "4     John Carter is a war-weary, former military ca...   \n",
       "...                                                 ...   \n",
       "4768  El Mariachi just wants to play his guitar and ...   \n",
       "4769  A newlywed couple's honeymoon is upended by th...   \n",
       "4770  \"Signed, Sealed, Delivered\" introduces a dedic...   \n",
       "4771  When ambitious New York attorney Sam is sent t...   \n",
       "4772  Ever since the second grade when he first saw ...   \n",
       "\n",
       "                                                tagline     uid  director_id  \n",
       "0                           Enter the World of Pandora.   19995         4762  \n",
       "1        At the end of the world, the adventure begins.     285         4763  \n",
       "2                                 A Plan No One Escapes  206647         4764  \n",
       "3                                       The Legend Ends   49026         4765  \n",
       "4                  Lost in our world, found in another.   49529         4766  \n",
       "...                                                 ...     ...          ...  \n",
       "4768  He didn't come looking for trouble, but troubl...    9367         5097  \n",
       "4769  A newlywed couple's honeymoon is upended by th...   72766         6485  \n",
       "4770                                               None  231617         7108  \n",
       "4771                           A New Yorker in Shanghai  126186         7109  \n",
       "4772                                               None   25975         7110  \n",
       "\n",
       "[4773 rows x 13 columns]"
      ]
     },
     "execution_count": 27,
     "metadata": {},
     "output_type": "execute_result"
    }
   ],
   "source": [
    "movie_df"
   ]
  },
  {
   "cell_type": "code",
   "execution_count": 28,
   "metadata": {
    "ExecuteTime": {
     "end_time": "2023-07-01T03:55:33.687433300Z",
     "start_time": "2023-07-01T03:55:33.210967500Z"
    },
    "collapsed": false
   },
   "outputs": [],
   "source": [
    "cur.execute('select original_title from movies where release_date > \"2000-01-01\" order by vote_average desc limit 1')\n",
    "most_awarded_avg = cur.fetchall()"
   ]
  },
  {
   "cell_type": "code",
   "execution_count": 29,
   "metadata": {
    "ExecuteTime": {
     "end_time": "2023-07-01T03:55:33.688942Z",
     "start_time": "2023-07-01T03:55:33.221370100Z"
    },
    "collapsed": false
   },
   "outputs": [
    {
     "name": "stdout",
     "output_type": "stream",
     "text": [
      "the most awarded average vote movie is Sardaarji\n"
     ]
    }
   ],
   "source": [
    "print(f\"the most awarded average vote movie is {most_awarded_avg[0][0]}\")"
   ]
  },
  {
   "cell_type": "markdown",
   "metadata": {
    "collapsed": false
   },
   "source": [
    "## 12. Which movies were directed by Brenda Chapman?"
   ]
  },
  {
   "cell_type": "code",
   "execution_count": 30,
   "metadata": {
    "ExecuteTime": {
     "end_time": "2023-07-01T03:55:33.688942Z",
     "start_time": "2023-07-01T03:55:33.225231500Z"
    },
    "collapsed": false
   },
   "outputs": [],
   "source": [
    "cur.execute(\n",
    "    'select original_title from movies join directors on directors.id= movies.director_id where directors.name = \"Brenda Chapman\"')\n",
    "directed_by = cur.fetchall()"
   ]
  },
  {
   "cell_type": "code",
   "execution_count": 31,
   "metadata": {
    "ExecuteTime": {
     "end_time": "2023-07-01T03:55:33.688942Z",
     "start_time": "2023-07-01T03:55:33.232039Z"
    },
    "collapsed": false
   },
   "outputs": [
    {
     "name": "stdout",
     "output_type": "stream",
     "text": [
      "The movie(e) directed by Brendan Chapman is ('Brave',)\n"
     ]
    }
   ],
   "source": [
    "print(f\"The movie(e) directed by Brendan Chapman is {directed_by[0]}\")"
   ]
  },
  {
   "cell_type": "markdown",
   "metadata": {
    "collapsed": false
   },
   "source": [
    "## 13. Name the director who has made the most movies ?"
   ]
  },
  {
   "cell_type": "code",
   "execution_count": 32,
   "metadata": {
    "ExecuteTime": {
     "end_time": "2023-07-01T03:55:33.689956900Z",
     "start_time": "2023-07-01T03:55:33.237651Z"
    },
    "collapsed": false
   },
   "outputs": [],
   "source": [
    "cur.execute(\n",
    "    'select name from directors join movies on directors.id= movies.director_id group by director_id order by count(name) desc limit 1')\n",
    "director_movie = cur.fetchall()"
   ]
  },
  {
   "cell_type": "code",
   "execution_count": 33,
   "metadata": {
    "ExecuteTime": {
     "end_time": "2023-07-01T03:55:33.690941900Z",
     "start_time": "2023-07-01T03:55:33.248294100Z"
    },
    "collapsed": false
   },
   "outputs": [
    {
     "name": "stdout",
     "output_type": "stream",
     "text": [
      "The director who has made the most movies is Steven Spielberg\n"
     ]
    }
   ],
   "source": [
    "print(f\"The director who has made the most movies is {director_movie[0][0]}\")"
   ]
  },
  {
   "cell_type": "markdown",
   "metadata": {
    "collapsed": false
   },
   "source": [
    "## 14. Name of the director who is most bankable ?"
   ]
  },
  {
   "cell_type": "code",
   "execution_count": 34,
   "metadata": {
    "ExecuteTime": {
     "end_time": "2023-07-01T03:55:33.690941900Z",
     "start_time": "2023-07-01T03:55:33.252440300Z"
    },
    "collapsed": false
   },
   "outputs": [],
   "source": [
    "cur.execute(\n",
    "    'select name from directors join movies on directors.id= movies.director_id group by director_id order by sum(budget) desc limit 1')\n",
    "most_bankable = cur.fetchall()"
   ]
  },
  {
   "cell_type": "code",
   "execution_count": 35,
   "metadata": {
    "ExecuteTime": {
     "end_time": "2023-07-01T03:55:33.690941900Z",
     "start_time": "2023-07-01T03:55:33.263836600Z"
    },
    "collapsed": false
   },
   "outputs": [
    {
     "name": "stdout",
     "output_type": "stream",
     "text": [
      "The director who is most bankable is Steven Spielberg\n"
     ]
    }
   ],
   "source": [
    "print(f\"The director who is most bankable is {most_bankable[0][0]}\")"
   ]
  },
  {
   "cell_type": "markdown",
   "metadata": {
    "collapsed": false
   },
   "source": [
    "# Budget Analysis"
   ]
  },
  {
   "cell_type": "markdown",
   "metadata": {
    "collapsed": false
   },
   "source": [
    "## Tell the top 10 highest budget making movies"
   ]
  },
  {
   "cell_type": "code",
   "execution_count": 36,
   "metadata": {
    "ExecuteTime": {
     "end_time": "2023-07-01T03:55:33.690941900Z",
     "start_time": "2023-07-01T03:55:33.273529900Z"
    },
    "collapsed": false
   },
   "outputs": [],
   "source": [
    "top_10 = pd.DataFrame(cur.execute('select * from movies order by budget desc limit 10').fetchall(),\n",
    "                      columns=['id', 'original_title', 'budget', 'popularity', 'release_date', 'revenue', 'title',\n",
    "                               'vote_average', 'vote_count', 'overview', 'tagline', 'uid', 'director_id'])"
   ]
  },
  {
   "cell_type": "code",
   "execution_count": 37,
   "metadata": {
    "ExecuteTime": {
     "end_time": "2023-07-01T03:55:33.690941900Z",
     "start_time": "2023-07-01T03:55:33.281690800Z"
    },
    "collapsed": false
   },
   "outputs": [
    {
     "data": {
      "text/html": [
       "<div>\n",
       "<style scoped>\n",
       "    .dataframe tbody tr th:only-of-type {\n",
       "        vertical-align: middle;\n",
       "    }\n",
       "\n",
       "    .dataframe tbody tr th {\n",
       "        vertical-align: top;\n",
       "    }\n",
       "\n",
       "    .dataframe thead th {\n",
       "        text-align: right;\n",
       "    }\n",
       "</style>\n",
       "<table border=\"1\" class=\"dataframe\">\n",
       "  <thead>\n",
       "    <tr style=\"text-align: right;\">\n",
       "      <th></th>\n",
       "      <th>id</th>\n",
       "      <th>original_title</th>\n",
       "      <th>budget</th>\n",
       "      <th>popularity</th>\n",
       "      <th>release_date</th>\n",
       "      <th>revenue</th>\n",
       "      <th>title</th>\n",
       "      <th>vote_average</th>\n",
       "      <th>vote_count</th>\n",
       "      <th>overview</th>\n",
       "      <th>tagline</th>\n",
       "      <th>uid</th>\n",
       "      <th>director_id</th>\n",
       "    </tr>\n",
       "  </thead>\n",
       "  <tbody>\n",
       "    <tr>\n",
       "      <th>0</th>\n",
       "      <td>43614</td>\n",
       "      <td>Pirates of the Caribbean: On Stranger Tides</td>\n",
       "      <td>380000000</td>\n",
       "      <td>135</td>\n",
       "      <td>2011-05-14</td>\n",
       "      <td>1045713802</td>\n",
       "      <td>Pirates of the Caribbean: On Stranger Tides</td>\n",
       "      <td>6.4</td>\n",
       "      <td>4948</td>\n",
       "      <td>Captain Jack Sparrow crosses paths with a woma...</td>\n",
       "      <td>Live Forever Or Die Trying.</td>\n",
       "      <td>1865</td>\n",
       "      <td>4775</td>\n",
       "    </tr>\n",
       "    <tr>\n",
       "      <th>1</th>\n",
       "      <td>43598</td>\n",
       "      <td>Pirates of the Caribbean: At World's End</td>\n",
       "      <td>300000000</td>\n",
       "      <td>139</td>\n",
       "      <td>2007-05-19</td>\n",
       "      <td>961000000</td>\n",
       "      <td>Pirates of the Caribbean: At World's End</td>\n",
       "      <td>6.9</td>\n",
       "      <td>4500</td>\n",
       "      <td>Captain Barbossa, long believed to be dead, ha...</td>\n",
       "      <td>At the end of the world, the adventure begins.</td>\n",
       "      <td>285</td>\n",
       "      <td>4763</td>\n",
       "    </tr>\n",
       "    <tr>\n",
       "      <th>2</th>\n",
       "      <td>43604</td>\n",
       "      <td>Avengers: Age of Ultron</td>\n",
       "      <td>280000000</td>\n",
       "      <td>134</td>\n",
       "      <td>2015-04-22</td>\n",
       "      <td>1405403694</td>\n",
       "      <td>Avengers: Age of Ultron</td>\n",
       "      <td>7.3</td>\n",
       "      <td>6767</td>\n",
       "      <td>When Tony Stark tries to jumpstart a dormant p...</td>\n",
       "      <td>A New Age Has Come.</td>\n",
       "      <td>99861</td>\n",
       "      <td>4769</td>\n",
       "    </tr>\n",
       "    <tr>\n",
       "      <th>3</th>\n",
       "      <td>43607</td>\n",
       "      <td>Superman Returns</td>\n",
       "      <td>270000000</td>\n",
       "      <td>57</td>\n",
       "      <td>2006-06-28</td>\n",
       "      <td>391081192</td>\n",
       "      <td>Superman Returns</td>\n",
       "      <td>5.4</td>\n",
       "      <td>1400</td>\n",
       "      <td>Superman returns to discover his 5-year absenc...</td>\n",
       "      <td>None</td>\n",
       "      <td>1452</td>\n",
       "      <td>4772</td>\n",
       "    </tr>\n",
       "    <tr>\n",
       "      <th>4</th>\n",
       "      <td>43601</td>\n",
       "      <td>John Carter</td>\n",
       "      <td>260000000</td>\n",
       "      <td>43</td>\n",
       "      <td>2012-03-07</td>\n",
       "      <td>284139100</td>\n",
       "      <td>John Carter</td>\n",
       "      <td>6.1</td>\n",
       "      <td>2124</td>\n",
       "      <td>John Carter is a war-weary, former military ca...</td>\n",
       "      <td>Lost in our world, found in another.</td>\n",
       "      <td>49529</td>\n",
       "      <td>4766</td>\n",
       "    </tr>\n",
       "    <tr>\n",
       "      <th>5</th>\n",
       "      <td>43603</td>\n",
       "      <td>Tangled</td>\n",
       "      <td>260000000</td>\n",
       "      <td>48</td>\n",
       "      <td>2010-11-24</td>\n",
       "      <td>591794936</td>\n",
       "      <td>Tangled</td>\n",
       "      <td>7.4</td>\n",
       "      <td>3330</td>\n",
       "      <td>When the kingdom's most wanted-and most charmi...</td>\n",
       "      <td>They're taking adventure to new lengths.</td>\n",
       "      <td>38757</td>\n",
       "      <td>4768</td>\n",
       "    </tr>\n",
       "    <tr>\n",
       "      <th>6</th>\n",
       "      <td>43602</td>\n",
       "      <td>Spider-Man 3</td>\n",
       "      <td>258000000</td>\n",
       "      <td>115</td>\n",
       "      <td>2007-05-01</td>\n",
       "      <td>890871626</td>\n",
       "      <td>Spider-Man 3</td>\n",
       "      <td>5.9</td>\n",
       "      <td>3576</td>\n",
       "      <td>The seemingly invincible Spider-Man goes up ag...</td>\n",
       "      <td>The battle within.</td>\n",
       "      <td>559</td>\n",
       "      <td>4767</td>\n",
       "    </tr>\n",
       "    <tr>\n",
       "      <th>7</th>\n",
       "      <td>43610</td>\n",
       "      <td>The Lone Ranger</td>\n",
       "      <td>255000000</td>\n",
       "      <td>49</td>\n",
       "      <td>2013-07-03</td>\n",
       "      <td>89289910</td>\n",
       "      <td>The Lone Ranger</td>\n",
       "      <td>5.9</td>\n",
       "      <td>2311</td>\n",
       "      <td>The Texas Rangers chase down a gang of outlaws...</td>\n",
       "      <td>Never Take Off the Mask</td>\n",
       "      <td>57201</td>\n",
       "      <td>4763</td>\n",
       "    </tr>\n",
       "    <tr>\n",
       "      <th>8</th>\n",
       "      <td>43600</td>\n",
       "      <td>The Dark Knight Rises</td>\n",
       "      <td>250000000</td>\n",
       "      <td>112</td>\n",
       "      <td>2012-07-16</td>\n",
       "      <td>1084939099</td>\n",
       "      <td>The Dark Knight Rises</td>\n",
       "      <td>7.6</td>\n",
       "      <td>9106</td>\n",
       "      <td>Following the death of District Attorney Harve...</td>\n",
       "      <td>The Legend Ends</td>\n",
       "      <td>49026</td>\n",
       "      <td>4765</td>\n",
       "    </tr>\n",
       "    <tr>\n",
       "      <th>9</th>\n",
       "      <td>43605</td>\n",
       "      <td>Harry Potter and the Half-Blood Prince</td>\n",
       "      <td>250000000</td>\n",
       "      <td>98</td>\n",
       "      <td>2009-07-07</td>\n",
       "      <td>933959197</td>\n",
       "      <td>Harry Potter and the Half-Blood Prince</td>\n",
       "      <td>7.4</td>\n",
       "      <td>5293</td>\n",
       "      <td>As Harry begins his sixth year at Hogwarts, he...</td>\n",
       "      <td>Dark Secrets Revealed</td>\n",
       "      <td>767</td>\n",
       "      <td>4770</td>\n",
       "    </tr>\n",
       "  </tbody>\n",
       "</table>\n",
       "</div>"
      ],
      "text/plain": [
       "      id                               original_title     budget  popularity   \n",
       "0  43614  Pirates of the Caribbean: On Stranger Tides  380000000         135  \\\n",
       "1  43598     Pirates of the Caribbean: At World's End  300000000         139   \n",
       "2  43604                      Avengers: Age of Ultron  280000000         134   \n",
       "3  43607                             Superman Returns  270000000          57   \n",
       "4  43601                                  John Carter  260000000          43   \n",
       "5  43603                                      Tangled  260000000          48   \n",
       "6  43602                                 Spider-Man 3  258000000         115   \n",
       "7  43610                              The Lone Ranger  255000000          49   \n",
       "8  43600                        The Dark Knight Rises  250000000         112   \n",
       "9  43605       Harry Potter and the Half-Blood Prince  250000000          98   \n",
       "\n",
       "  release_date     revenue                                        title   \n",
       "0   2011-05-14  1045713802  Pirates of the Caribbean: On Stranger Tides  \\\n",
       "1   2007-05-19   961000000     Pirates of the Caribbean: At World's End   \n",
       "2   2015-04-22  1405403694                      Avengers: Age of Ultron   \n",
       "3   2006-06-28   391081192                             Superman Returns   \n",
       "4   2012-03-07   284139100                                  John Carter   \n",
       "5   2010-11-24   591794936                                      Tangled   \n",
       "6   2007-05-01   890871626                                 Spider-Man 3   \n",
       "7   2013-07-03    89289910                              The Lone Ranger   \n",
       "8   2012-07-16  1084939099                        The Dark Knight Rises   \n",
       "9   2009-07-07   933959197       Harry Potter and the Half-Blood Prince   \n",
       "\n",
       "   vote_average  vote_count   \n",
       "0           6.4        4948  \\\n",
       "1           6.9        4500   \n",
       "2           7.3        6767   \n",
       "3           5.4        1400   \n",
       "4           6.1        2124   \n",
       "5           7.4        3330   \n",
       "6           5.9        3576   \n",
       "7           5.9        2311   \n",
       "8           7.6        9106   \n",
       "9           7.4        5293   \n",
       "\n",
       "                                            overview   \n",
       "0  Captain Jack Sparrow crosses paths with a woma...  \\\n",
       "1  Captain Barbossa, long believed to be dead, ha...   \n",
       "2  When Tony Stark tries to jumpstart a dormant p...   \n",
       "3  Superman returns to discover his 5-year absenc...   \n",
       "4  John Carter is a war-weary, former military ca...   \n",
       "5  When the kingdom's most wanted-and most charmi...   \n",
       "6  The seemingly invincible Spider-Man goes up ag...   \n",
       "7  The Texas Rangers chase down a gang of outlaws...   \n",
       "8  Following the death of District Attorney Harve...   \n",
       "9  As Harry begins his sixth year at Hogwarts, he...   \n",
       "\n",
       "                                          tagline    uid  director_id  \n",
       "0                     Live Forever Or Die Trying.   1865         4775  \n",
       "1  At the end of the world, the adventure begins.    285         4763  \n",
       "2                             A New Age Has Come.  99861         4769  \n",
       "3                                            None   1452         4772  \n",
       "4            Lost in our world, found in another.  49529         4766  \n",
       "5        They're taking adventure to new lengths.  38757         4768  \n",
       "6                              The battle within.    559         4767  \n",
       "7                         Never Take Off the Mask  57201         4763  \n",
       "8                                 The Legend Ends  49026         4765  \n",
       "9                           Dark Secrets Revealed    767         4770  "
      ]
     },
     "execution_count": 37,
     "metadata": {},
     "output_type": "execute_result"
    }
   ],
   "source": [
    "top_10"
   ]
  },
  {
   "cell_type": "code",
   "execution_count": 38,
   "metadata": {
    "ExecuteTime": {
     "end_time": "2023-07-01T03:55:34.113709300Z",
     "start_time": "2023-07-01T03:55:33.294618900Z"
    },
    "collapsed": false
   },
   "outputs": [
    {
     "data": {
      "text/plain": [
       "Text(0.5, 1.0, 'Top 10 budget movies')"
      ]
     },
     "execution_count": 38,
     "metadata": {},
     "output_type": "execute_result"
    },
    {
     "data": {
      "image/png": "[encoded data removed]",
      "text/plain": [
       "<Figure size 640x480 with 1 Axes>"
      ]
     },
     "metadata": {},
     "output_type": "display_data"
    }
   ],
   "source": [
    "sns.barplot(data=top_10, x='original_title', y='budget', width=0.3)\n",
    "plt.xticks(rotation=90)\n",
    "plt.tight_layout()\n",
    "plt.title('Top 10 budget movies')"
   ]
  },
  {
   "cell_type": "markdown",
   "metadata": {
    "collapsed": false
   },
   "source": [
    "# Revenue Analysis"
   ]
  },
  {
   "cell_type": "markdown",
   "metadata": {
    "collapsed": false
   },
   "source": [
    "## 1. Find top 10 revenue making movies"
   ]
  },
  {
   "cell_type": "code",
   "execution_count": 39,
   "metadata": {
    "ExecuteTime": {
     "end_time": "2023-07-01T03:55:34.113709300Z",
     "start_time": "2023-07-01T03:55:33.653591100Z"
    },
    "collapsed": false
   },
   "outputs": [],
   "source": [
    "cur.execute('select * from movies order by revenue desc limit 10')\n",
    "top10_movies = cur.fetchall()\n",
    "most_revenue = pd.DataFrame(top10_movies)"
   ]
  },
  {
   "cell_type": "code",
   "execution_count": 40,
   "metadata": {
    "ExecuteTime": {
     "end_time": "2023-07-01T03:55:34.114708400Z",
     "start_time": "2023-07-01T03:55:33.664419200Z"
    },
    "collapsed": false
   },
   "outputs": [
    {
     "data": {
      "text/html": [
       "<div>\n",
       "<style scoped>\n",
       "    .dataframe tbody tr th:only-of-type {\n",
       "        vertical-align: middle;\n",
       "    }\n",
       "\n",
       "    .dataframe tbody tr th {\n",
       "        vertical-align: top;\n",
       "    }\n",
       "\n",
       "    .dataframe thead th {\n",
       "        text-align: right;\n",
       "    }\n",
       "</style>\n",
       "<table border=\"1\" class=\"dataframe\">\n",
       "  <thead>\n",
       "    <tr style=\"text-align: right;\">\n",
       "      <th></th>\n",
       "      <th>0</th>\n",
       "      <th>1</th>\n",
       "      <th>2</th>\n",
       "      <th>3</th>\n",
       "      <th>4</th>\n",
       "      <th>5</th>\n",
       "      <th>6</th>\n",
       "      <th>7</th>\n",
       "      <th>8</th>\n",
       "      <th>9</th>\n",
       "      <th>10</th>\n",
       "      <th>11</th>\n",
       "      <th>12</th>\n",
       "    </tr>\n",
       "  </thead>\n",
       "  <tbody>\n",
       "    <tr>\n",
       "      <th>0</th>\n",
       "      <td>43597</td>\n",
       "      <td>Avatar</td>\n",
       "      <td>237000000</td>\n",
       "      <td>150</td>\n",
       "      <td>2009-12-10</td>\n",
       "      <td>2787965087</td>\n",
       "      <td>Avatar</td>\n",
       "      <td>7.2</td>\n",
       "      <td>11800</td>\n",
       "      <td>In the 22nd century, a paraplegic Marine is di...</td>\n",
       "      <td>Enter the World of Pandora.</td>\n",
       "      <td>19995</td>\n",
       "      <td>4762</td>\n",
       "    </tr>\n",
       "    <tr>\n",
       "      <th>1</th>\n",
       "      <td>43622</td>\n",
       "      <td>Titanic</td>\n",
       "      <td>200000000</td>\n",
       "      <td>100</td>\n",
       "      <td>1997-11-18</td>\n",
       "      <td>1845034188</td>\n",
       "      <td>Titanic</td>\n",
       "      <td>7.5</td>\n",
       "      <td>7562</td>\n",
       "      <td>84 years later, a 101-year-old woman named Ros...</td>\n",
       "      <td>Nothing on Earth could come between them.</td>\n",
       "      <td>597</td>\n",
       "      <td>4762</td>\n",
       "    </tr>\n",
       "    <tr>\n",
       "      <th>2</th>\n",
       "      <td>43613</td>\n",
       "      <td>The Avengers</td>\n",
       "      <td>220000000</td>\n",
       "      <td>144</td>\n",
       "      <td>2012-04-25</td>\n",
       "      <td>1519557910</td>\n",
       "      <td>The Avengers</td>\n",
       "      <td>7.4</td>\n",
       "      <td>11776</td>\n",
       "      <td>When an unexpected enemy emerges and threatens...</td>\n",
       "      <td>Some assembly required.</td>\n",
       "      <td>24428</td>\n",
       "      <td>4769</td>\n",
       "    </tr>\n",
       "    <tr>\n",
       "      <th>3</th>\n",
       "      <td>43625</td>\n",
       "      <td>Jurassic World</td>\n",
       "      <td>150000000</td>\n",
       "      <td>418</td>\n",
       "      <td>2015-06-09</td>\n",
       "      <td>1513528810</td>\n",
       "      <td>Jurassic World</td>\n",
       "      <td>6.5</td>\n",
       "      <td>8662</td>\n",
       "      <td>Twenty-two years after the events of Jurassic ...</td>\n",
       "      <td>The park is open.</td>\n",
       "      <td>135397</td>\n",
       "      <td>4783</td>\n",
       "    </tr>\n",
       "    <tr>\n",
       "      <th>4</th>\n",
       "      <td>43641</td>\n",
       "      <td>Furious 7</td>\n",
       "      <td>190000000</td>\n",
       "      <td>102</td>\n",
       "      <td>2015-04-01</td>\n",
       "      <td>1506249360</td>\n",
       "      <td>Furious 7</td>\n",
       "      <td>7.3</td>\n",
       "      <td>4176</td>\n",
       "      <td>Deckard Shaw seeks revenge against Dominic Tor...</td>\n",
       "      <td>Vengeance Hits Home</td>\n",
       "      <td>168259</td>\n",
       "      <td>4794</td>\n",
       "    </tr>\n",
       "    <tr>\n",
       "      <th>5</th>\n",
       "      <td>43604</td>\n",
       "      <td>Avengers: Age of Ultron</td>\n",
       "      <td>280000000</td>\n",
       "      <td>134</td>\n",
       "      <td>2015-04-22</td>\n",
       "      <td>1405403694</td>\n",
       "      <td>Avengers: Age of Ultron</td>\n",
       "      <td>7.3</td>\n",
       "      <td>6767</td>\n",
       "      <td>When Tony Stark tries to jumpstart a dormant p...</td>\n",
       "      <td>A New Age Has Come.</td>\n",
       "      <td>99861</td>\n",
       "      <td>4769</td>\n",
       "    </tr>\n",
       "    <tr>\n",
       "      <th>6</th>\n",
       "      <td>43721</td>\n",
       "      <td>Frozen</td>\n",
       "      <td>150000000</td>\n",
       "      <td>165</td>\n",
       "      <td>2013-11-27</td>\n",
       "      <td>1274219009</td>\n",
       "      <td>Frozen</td>\n",
       "      <td>7.3</td>\n",
       "      <td>5295</td>\n",
       "      <td>Young princess Anna of Arendelle dreams about ...</td>\n",
       "      <td>Only the act of true love will thaw a frozen h...</td>\n",
       "      <td>109445</td>\n",
       "      <td>4844</td>\n",
       "    </tr>\n",
       "    <tr>\n",
       "      <th>7</th>\n",
       "      <td>43628</td>\n",
       "      <td>Iron Man 3</td>\n",
       "      <td>200000000</td>\n",
       "      <td>77</td>\n",
       "      <td>2013-04-18</td>\n",
       "      <td>1215439994</td>\n",
       "      <td>Iron Man 3</td>\n",
       "      <td>6.8</td>\n",
       "      <td>8806</td>\n",
       "      <td>When Tony Stark's world is torn apart by a for...</td>\n",
       "      <td>Unleash the power behind the armor.</td>\n",
       "      <td>68721</td>\n",
       "      <td>4784</td>\n",
       "    </tr>\n",
       "    <tr>\n",
       "      <th>8</th>\n",
       "      <td>44143</td>\n",
       "      <td>Minions</td>\n",
       "      <td>74000000</td>\n",
       "      <td>875</td>\n",
       "      <td>2015-06-17</td>\n",
       "      <td>1156730962</td>\n",
       "      <td>Minions</td>\n",
       "      <td>6.4</td>\n",
       "      <td>4571</td>\n",
       "      <td>Minions Stuart, Kevin and Bob are recruited by...</td>\n",
       "      <td>Before Gru, they had a history of bad bosses</td>\n",
       "      <td>211672</td>\n",
       "      <td>5045</td>\n",
       "    </tr>\n",
       "    <tr>\n",
       "      <th>9</th>\n",
       "      <td>43623</td>\n",
       "      <td>Captain America: Civil War</td>\n",
       "      <td>250000000</td>\n",
       "      <td>198</td>\n",
       "      <td>2016-04-27</td>\n",
       "      <td>1153304495</td>\n",
       "      <td>Captain America: Civil War</td>\n",
       "      <td>7.1</td>\n",
       "      <td>7241</td>\n",
       "      <td>Following the events of Age of Ultron, the col...</td>\n",
       "      <td>Divided We Fall</td>\n",
       "      <td>271110</td>\n",
       "      <td>4781</td>\n",
       "    </tr>\n",
       "  </tbody>\n",
       "</table>\n",
       "</div>"
      ],
      "text/plain": [
       "      0                           1          2    3           4           5    \n",
       "0  43597                      Avatar  237000000  150  2009-12-10  2787965087  \\\n",
       "1  43622                     Titanic  200000000  100  1997-11-18  1845034188   \n",
       "2  43613                The Avengers  220000000  144  2012-04-25  1519557910   \n",
       "3  43625              Jurassic World  150000000  418  2015-06-09  1513528810   \n",
       "4  43641                   Furious 7  190000000  102  2015-04-01  1506249360   \n",
       "5  43604     Avengers: Age of Ultron  280000000  134  2015-04-22  1405403694   \n",
       "6  43721                      Frozen  150000000  165  2013-11-27  1274219009   \n",
       "7  43628                  Iron Man 3  200000000   77  2013-04-18  1215439994   \n",
       "8  44143                     Minions   74000000  875  2015-06-17  1156730962   \n",
       "9  43623  Captain America: Civil War  250000000  198  2016-04-27  1153304495   \n",
       "\n",
       "                           6    7      8    \n",
       "0                      Avatar  7.2  11800  \\\n",
       "1                     Titanic  7.5   7562   \n",
       "2                The Avengers  7.4  11776   \n",
       "3              Jurassic World  6.5   8662   \n",
       "4                   Furious 7  7.3   4176   \n",
       "5     Avengers: Age of Ultron  7.3   6767   \n",
       "6                      Frozen  7.3   5295   \n",
       "7                  Iron Man 3  6.8   8806   \n",
       "8                     Minions  6.4   4571   \n",
       "9  Captain America: Civil War  7.1   7241   \n",
       "\n",
       "                                                  9    \n",
       "0  In the 22nd century, a paraplegic Marine is di...  \\\n",
       "1  84 years later, a 101-year-old woman named Ros...   \n",
       "2  When an unexpected enemy emerges and threatens...   \n",
       "3  Twenty-two years after the events of Jurassic ...   \n",
       "4  Deckard Shaw seeks revenge against Dominic Tor...   \n",
       "5  When Tony Stark tries to jumpstart a dormant p...   \n",
       "6  Young princess Anna of Arendelle dreams about ...   \n",
       "7  When Tony Stark's world is torn apart by a for...   \n",
       "8  Minions Stuart, Kevin and Bob are recruited by...   \n",
       "9  Following the events of Age of Ultron, the col...   \n",
       "\n",
       "                                                  10      11    12  \n",
       "0                        Enter the World of Pandora.   19995  4762  \n",
       "1          Nothing on Earth could come between them.     597  4762  \n",
       "2                            Some assembly required.   24428  4769  \n",
       "3                                  The park is open.  135397  4783  \n",
       "4                                Vengeance Hits Home  168259  4794  \n",
       "5                                A New Age Has Come.   99861  4769  \n",
       "6  Only the act of true love will thaw a frozen h...  109445  4844  \n",
       "7                Unleash the power behind the armor.   68721  4784  \n",
       "8       Before Gru, they had a history of bad bosses  211672  5045  \n",
       "9                                    Divided We Fall  271110  4781  "
      ]
     },
     "execution_count": 40,
     "metadata": {},
     "output_type": "execute_result"
    }
   ],
   "source": [
    "most_revenue"
   ]
  },
  {
   "cell_type": "code",
   "execution_count": 41,
   "metadata": {
    "ExecuteTime": {
     "end_time": "2023-07-01T03:55:34.400514400Z",
     "start_time": "2023-07-01T03:55:33.680452300Z"
    },
    "collapsed": false
   },
   "outputs": [
    {
     "data": {
      "text/plain": [
       "Text(0.5, 23.52222222222222, 'revenue in $')"
      ]
     },
     "execution_count": 41,
     "metadata": {},
     "output_type": "execute_result"
    },
    {
     "data": {
      "image/png": "[encoded data removed]",
      "text/plain": [
       "<Figure size 640x480 with 1 Axes>"
      ]
     },
     "metadata": {},
     "output_type": "display_data"
    }
   ],
   "source": [
    "sns.barplot(data=most_revenue, x=5, y=1, width=0.3)\n",
    "plt.tight_layout()\n",
    "plt.title(\"Top 10 Revenue Making Movies\")\n",
    "plt.ylabel(\"name\")\n",
    "plt.xlabel(\"revenue in $\")"
   ]
  },
  {
   "cell_type": "markdown",
   "metadata": {
    "collapsed": false
   },
   "source": [
    "# Voting Analysis"
   ]
  },
  {
   "cell_type": "markdown",
   "metadata": {
    "collapsed": false
   },
   "source": [
    "## 1. Find the most popular movies with highest vote_average"
   ]
  },
  {
   "cell_type": "code",
   "execution_count": 42,
   "metadata": {
    "ExecuteTime": {
     "end_time": "2023-07-01T03:55:34.400514400Z",
     "start_time": "2023-07-01T03:55:34.042799500Z"
    },
    "collapsed": false
   },
   "outputs": [],
   "source": [
    "cur.execute('select * from movies order by vote_average desc limit 10')\n",
    "data = cur.fetchall()\n",
    "highest_vote_average = pd.DataFrame(data)"
   ]
  },
  {
   "cell_type": "code",
   "execution_count": 43,
   "metadata": {
    "ExecuteTime": {
     "end_time": "2023-07-01T03:55:34.401511100Z",
     "start_time": "2023-07-01T03:55:34.053456600Z"
    },
    "collapsed": false
   },
   "outputs": [
    {
     "data": {
      "text/html": [
       "<div>\n",
       "<style scoped>\n",
       "    .dataframe tbody tr th:only-of-type {\n",
       "        vertical-align: middle;\n",
       "    }\n",
       "\n",
       "    .dataframe tbody tr th {\n",
       "        vertical-align: top;\n",
       "    }\n",
       "\n",
       "    .dataframe thead th {\n",
       "        text-align: right;\n",
       "    }\n",
       "</style>\n",
       "<table border=\"1\" class=\"dataframe\">\n",
       "  <thead>\n",
       "    <tr style=\"text-align: right;\">\n",
       "      <th></th>\n",
       "      <th>0</th>\n",
       "      <th>1</th>\n",
       "      <th>2</th>\n",
       "      <th>3</th>\n",
       "      <th>4</th>\n",
       "      <th>5</th>\n",
       "      <th>6</th>\n",
       "      <th>7</th>\n",
       "      <th>8</th>\n",
       "      <th>9</th>\n",
       "      <th>10</th>\n",
       "      <th>11</th>\n",
       "      <th>12</th>\n",
       "    </tr>\n",
       "  </thead>\n",
       "  <tbody>\n",
       "    <tr>\n",
       "      <th>0</th>\n",
       "      <td>47116</td>\n",
       "      <td>Stiff Upper Lips</td>\n",
       "      <td>0</td>\n",
       "      <td>0</td>\n",
       "      <td>1998-06-12</td>\n",
       "      <td>0</td>\n",
       "      <td>Stiff Upper Lips</td>\n",
       "      <td>10.0</td>\n",
       "      <td>1</td>\n",
       "      <td>Stiff Upper Lips is a broad parody of British ...</td>\n",
       "      <td>None</td>\n",
       "      <td>89861</td>\n",
       "      <td>6332</td>\n",
       "    </tr>\n",
       "    <tr>\n",
       "      <th>1</th>\n",
       "      <td>47642</td>\n",
       "      <td>Dancer, Texas Pop. 81</td>\n",
       "      <td>0</td>\n",
       "      <td>0</td>\n",
       "      <td>1998-05-01</td>\n",
       "      <td>565592</td>\n",
       "      <td>Dancer, Texas Pop. 81</td>\n",
       "      <td>10.0</td>\n",
       "      <td>1</td>\n",
       "      <td>Four guys, best friends, have grown up togethe...</td>\n",
       "      <td>in the middle of nowhere they had everything</td>\n",
       "      <td>78373</td>\n",
       "      <td>5463</td>\n",
       "    </tr>\n",
       "    <tr>\n",
       "      <th>2</th>\n",
       "      <td>47589</td>\n",
       "      <td>Sardaarji</td>\n",
       "      <td>0</td>\n",
       "      <td>0</td>\n",
       "      <td>2015-06-26</td>\n",
       "      <td>0</td>\n",
       "      <td>Sardaarji</td>\n",
       "      <td>9.5</td>\n",
       "      <td>2</td>\n",
       "      <td>A ghost hunter uses bottles to capture trouble...</td>\n",
       "      <td>None</td>\n",
       "      <td>346081</td>\n",
       "      <td>6588</td>\n",
       "    </tr>\n",
       "    <tr>\n",
       "      <th>3</th>\n",
       "      <td>45983</td>\n",
       "      <td>One Man's Hero</td>\n",
       "      <td>0</td>\n",
       "      <td>0</td>\n",
       "      <td>1999-08-02</td>\n",
       "      <td>0</td>\n",
       "      <td>One Man's Hero</td>\n",
       "      <td>9.3</td>\n",
       "      <td>2</td>\n",
       "      <td>One Man's Hero tells the little-known story of...</td>\n",
       "      <td>One man's hero is another man's traitor.</td>\n",
       "      <td>69848</td>\n",
       "      <td>5770</td>\n",
       "    </tr>\n",
       "    <tr>\n",
       "      <th>4</th>\n",
       "      <td>45478</td>\n",
       "      <td>The Shawshank Redemption</td>\n",
       "      <td>25000000</td>\n",
       "      <td>136</td>\n",
       "      <td>1994-09-23</td>\n",
       "      <td>28341469</td>\n",
       "      <td>The Shawshank Redemption</td>\n",
       "      <td>8.5</td>\n",
       "      <td>8205</td>\n",
       "      <td>Framed in the 1940s for the double murder of h...</td>\n",
       "      <td>Fear can hold you prisoner. Hope can set you f...</td>\n",
       "      <td>278</td>\n",
       "      <td>5051</td>\n",
       "    </tr>\n",
       "    <tr>\n",
       "      <th>5</th>\n",
       "      <td>46567</td>\n",
       "      <td>There Goes My Baby</td>\n",
       "      <td>10500000</td>\n",
       "      <td>0</td>\n",
       "      <td>1994-09-02</td>\n",
       "      <td>123509</td>\n",
       "      <td>There Goes My Baby</td>\n",
       "      <td>8.5</td>\n",
       "      <td>2</td>\n",
       "      <td>A group of high school seniors meets in the su...</td>\n",
       "      <td>None</td>\n",
       "      <td>88641</td>\n",
       "      <td>6051</td>\n",
       "    </tr>\n",
       "    <tr>\n",
       "      <th>6</th>\n",
       "      <td>46393</td>\n",
       "      <td>The Prisoner of Zenda</td>\n",
       "      <td>0</td>\n",
       "      <td>4</td>\n",
       "      <td>1937-09-03</td>\n",
       "      <td>0</td>\n",
       "      <td>The Prisoner of Zenda</td>\n",
       "      <td>8.4</td>\n",
       "      <td>11</td>\n",
       "      <td>An Englishman on a Ruritarian holiday must imp...</td>\n",
       "      <td>The most thrilling swordfight ever filmed...</td>\n",
       "      <td>43867</td>\n",
       "      <td>5972</td>\n",
       "    </tr>\n",
       "    <tr>\n",
       "      <th>7</th>\n",
       "      <td>46934</td>\n",
       "      <td>The Godfather</td>\n",
       "      <td>6000000</td>\n",
       "      <td>143</td>\n",
       "      <td>1972-03-14</td>\n",
       "      <td>245066411</td>\n",
       "      <td>The Godfather</td>\n",
       "      <td>8.4</td>\n",
       "      <td>5893</td>\n",
       "      <td>Spanning the years 1945 to 1955, a chronicle o...</td>\n",
       "      <td>An offer you can't refuse.</td>\n",
       "      <td>238</td>\n",
       "      <td>5179</td>\n",
       "    </tr>\n",
       "    <tr>\n",
       "      <th>8</th>\n",
       "      <td>44259</td>\n",
       "      <td>Fight Club</td>\n",
       "      <td>63000000</td>\n",
       "      <td>146</td>\n",
       "      <td>1999-10-15</td>\n",
       "      <td>100853753</td>\n",
       "      <td>Fight Club</td>\n",
       "      <td>8.3</td>\n",
       "      <td>9413</td>\n",
       "      <td>A ticking-time-bomb insomniac and a slippery s...</td>\n",
       "      <td>Mischief. Mayhem. Soap.</td>\n",
       "      <td>550</td>\n",
       "      <td>4829</td>\n",
       "    </tr>\n",
       "    <tr>\n",
       "      <th>9</th>\n",
       "      <td>45415</td>\n",
       "      <td>Schindler's List</td>\n",
       "      <td>22000000</td>\n",
       "      <td>104</td>\n",
       "      <td>1993-11-29</td>\n",
       "      <td>321365567</td>\n",
       "      <td>Schindler's List</td>\n",
       "      <td>8.3</td>\n",
       "      <td>4329</td>\n",
       "      <td>The true story of how businessman Oskar Schind...</td>\n",
       "      <td>Whoever saves one life, saves the world entire.</td>\n",
       "      <td>424</td>\n",
       "      <td>4799</td>\n",
       "    </tr>\n",
       "  </tbody>\n",
       "</table>\n",
       "</div>"
      ],
      "text/plain": [
       "      0                         1         2    3           4          5    \n",
       "0  47116          Stiff Upper Lips         0    0  1998-06-12          0  \\\n",
       "1  47642     Dancer, Texas Pop. 81         0    0  1998-05-01     565592   \n",
       "2  47589                 Sardaarji         0    0  2015-06-26          0   \n",
       "3  45983            One Man's Hero         0    0  1999-08-02          0   \n",
       "4  45478  The Shawshank Redemption  25000000  136  1994-09-23   28341469   \n",
       "5  46567        There Goes My Baby  10500000    0  1994-09-02     123509   \n",
       "6  46393     The Prisoner of Zenda         0    4  1937-09-03          0   \n",
       "7  46934             The Godfather   6000000  143  1972-03-14  245066411   \n",
       "8  44259                Fight Club  63000000  146  1999-10-15  100853753   \n",
       "9  45415          Schindler's List  22000000  104  1993-11-29  321365567   \n",
       "\n",
       "                         6     7     8    \n",
       "0          Stiff Upper Lips  10.0     1  \\\n",
       "1     Dancer, Texas Pop. 81  10.0     1   \n",
       "2                 Sardaarji   9.5     2   \n",
       "3            One Man's Hero   9.3     2   \n",
       "4  The Shawshank Redemption   8.5  8205   \n",
       "5        There Goes My Baby   8.5     2   \n",
       "6     The Prisoner of Zenda   8.4    11   \n",
       "7             The Godfather   8.4  5893   \n",
       "8                Fight Club   8.3  9413   \n",
       "9          Schindler's List   8.3  4329   \n",
       "\n",
       "                                                  9    \n",
       "0  Stiff Upper Lips is a broad parody of British ...  \\\n",
       "1  Four guys, best friends, have grown up togethe...   \n",
       "2  A ghost hunter uses bottles to capture trouble...   \n",
       "3  One Man's Hero tells the little-known story of...   \n",
       "4  Framed in the 1940s for the double murder of h...   \n",
       "5  A group of high school seniors meets in the su...   \n",
       "6  An Englishman on a Ruritarian holiday must imp...   \n",
       "7  Spanning the years 1945 to 1955, a chronicle o...   \n",
       "8  A ticking-time-bomb insomniac and a slippery s...   \n",
       "9  The true story of how businessman Oskar Schind...   \n",
       "\n",
       "                                                  10      11    12  \n",
       "0                                               None   89861  6332  \n",
       "1       in the middle of nowhere they had everything   78373  5463  \n",
       "2                                               None  346081  6588  \n",
       "3           One man's hero is another man's traitor.   69848  5770  \n",
       "4  Fear can hold you prisoner. Hope can set you f...     278  5051  \n",
       "5                                               None   88641  6051  \n",
       "6       The most thrilling swordfight ever filmed...   43867  5972  \n",
       "7                         An offer you can't refuse.     238  5179  \n",
       "8                            Mischief. Mayhem. Soap.     550  4829  \n",
       "9    Whoever saves one life, saves the world entire.     424  4799  "
      ]
     },
     "execution_count": 43,
     "metadata": {},
     "output_type": "execute_result"
    }
   ],
   "source": [
    "highest_vote_average"
   ]
  },
  {
   "cell_type": "code",
   "execution_count": 44,
   "metadata": {
    "ExecuteTime": {
     "end_time": "2023-07-01T03:55:34.966539700Z",
     "start_time": "2023-07-01T03:55:34.068793200Z"
    },
    "collapsed": false
   },
   "outputs": [
    {
     "data": {
      "text/plain": [
       "Text(-132.52777777777777, 0.5, 'Name of movie')"
      ]
     },
     "execution_count": 44,
     "metadata": {},
     "output_type": "execute_result"
    },
    {
     "data": {
      "image/png": "[encoded data removed]",
      "text/plain": [
       "<Figure size 640x480 with 1 Axes>"
      ]
     },
     "metadata": {},
     "output_type": "display_data"
    }
   ],
   "source": [
    "sns.barplot(data=highest_vote_average, x=7, y=1, width=0.3)\n",
    "plt.tight_layout()\n",
    "plt.title(\"Top 10 rated movies\")\n",
    "plt.xlabel(\"Rating\")\n",
    "plt.ylabel(\"Name of movie\")"
   ]
  },
  {
   "cell_type": "markdown",
   "metadata": {
    "collapsed": false
   },
   "source": [
    "# Director Analysis"
   ]
  },
  {
   "cell_type": "markdown",
   "metadata": {
    "collapsed": false
   },
   "source": [
    "## Question- List out the director names with number of movies and revenue\n"
   ]
  },
  {
   "cell_type": "code",
   "execution_count": 45,
   "metadata": {
    "ExecuteTime": {
     "end_time": "2023-07-01T03:55:34.967539300Z",
     "start_time": "2023-07-01T03:55:34.454523500Z"
    },
    "collapsed": false
   },
   "outputs": [],
   "source": [
    "cur.execute(\n",
    "    'SELECT name, COUNT(original_title), SUM(revenue)FROM directors JOIN movies ON directors.id = movies.director_id GROUP BY name ORDER BY SUM(revenue) DESC')\n",
    "mostProfitableDirector = cur.fetchall()\n",
    "mostProfitableDirector = pd.DataFrame(mostProfitableDirector, columns=['director_name', 'movies', 'revenue'])\n",
    "mostProfitableDirector = mostProfitableDirector.head(10)"
   ]
  },
  {
   "cell_type": "code",
   "execution_count": 46,
   "metadata": {
    "ExecuteTime": {
     "end_time": "2023-07-01T03:55:34.967539300Z",
     "start_time": "2023-07-01T03:55:34.494121600Z"
    },
    "collapsed": false
   },
   "outputs": [
    {
     "data": {
      "text/html": [
       "<div>\n",
       "<style scoped>\n",
       "    .dataframe tbody tr th:only-of-type {\n",
       "        vertical-align: middle;\n",
       "    }\n",
       "\n",
       "    .dataframe tbody tr th {\n",
       "        vertical-align: top;\n",
       "    }\n",
       "\n",
       "    .dataframe thead th {\n",
       "        text-align: right;\n",
       "    }\n",
       "</style>\n",
       "<table border=\"1\" class=\"dataframe\">\n",
       "  <thead>\n",
       "    <tr style=\"text-align: right;\">\n",
       "      <th></th>\n",
       "      <th>director_name</th>\n",
       "      <th>movies</th>\n",
       "      <th>revenue</th>\n",
       "    </tr>\n",
       "  </thead>\n",
       "  <tbody>\n",
       "    <tr>\n",
       "      <th>0</th>\n",
       "      <td>Steven Spielberg</td>\n",
       "      <td>27</td>\n",
       "      <td>9147393164</td>\n",
       "    </tr>\n",
       "    <tr>\n",
       "      <th>1</th>\n",
       "      <td>Peter Jackson</td>\n",
       "      <td>9</td>\n",
       "      <td>6498642820</td>\n",
       "    </tr>\n",
       "    <tr>\n",
       "      <th>2</th>\n",
       "      <td>James Cameron</td>\n",
       "      <td>7</td>\n",
       "      <td>5883569439</td>\n",
       "    </tr>\n",
       "    <tr>\n",
       "      <th>3</th>\n",
       "      <td>Michael Bay</td>\n",
       "      <td>12</td>\n",
       "      <td>5832524638</td>\n",
       "    </tr>\n",
       "    <tr>\n",
       "      <th>4</th>\n",
       "      <td>Christopher Nolan</td>\n",
       "      <td>8</td>\n",
       "      <td>4227483234</td>\n",
       "    </tr>\n",
       "    <tr>\n",
       "      <th>5</th>\n",
       "      <td>Chris Columbus</td>\n",
       "      <td>11</td>\n",
       "      <td>3725631503</td>\n",
       "    </tr>\n",
       "    <tr>\n",
       "      <th>6</th>\n",
       "      <td>Robert Zemeckis</td>\n",
       "      <td>13</td>\n",
       "      <td>3590622002</td>\n",
       "    </tr>\n",
       "    <tr>\n",
       "      <th>7</th>\n",
       "      <td>George Lucas</td>\n",
       "      <td>5</td>\n",
       "      <td>3339113893</td>\n",
       "    </tr>\n",
       "    <tr>\n",
       "      <th>8</th>\n",
       "      <td>Tim Burton</td>\n",
       "      <td>14</td>\n",
       "      <td>3337418241</td>\n",
       "    </tr>\n",
       "    <tr>\n",
       "      <th>9</th>\n",
       "      <td>Ridley Scott</td>\n",
       "      <td>16</td>\n",
       "      <td>3189557997</td>\n",
       "    </tr>\n",
       "  </tbody>\n",
       "</table>\n",
       "</div>"
      ],
      "text/plain": [
       "       director_name  movies     revenue\n",
       "0   Steven Spielberg      27  9147393164\n",
       "1      Peter Jackson       9  6498642820\n",
       "2      James Cameron       7  5883569439\n",
       "3        Michael Bay      12  5832524638\n",
       "4  Christopher Nolan       8  4227483234\n",
       "5     Chris Columbus      11  3725631503\n",
       "6    Robert Zemeckis      13  3590622002\n",
       "7       George Lucas       5  3339113893\n",
       "8         Tim Burton      14  3337418241\n",
       "9       Ridley Scott      16  3189557997"
      ]
     },
     "execution_count": 46,
     "metadata": {},
     "output_type": "execute_result"
    }
   ],
   "source": [
    "mostProfitableDirector"
   ]
  },
  {
   "cell_type": "code",
   "execution_count": 47,
   "metadata": {
    "ExecuteTime": {
     "end_time": "2023-07-01T03:55:35.399222100Z",
     "start_time": "2023-07-01T03:55:34.495119900Z"
    },
    "collapsed": false
   },
   "outputs": [
    {
     "data": {
      "text/plain": [
       "Text(0, 0.5, 'movies count')"
      ]
     },
     "execution_count": 47,
     "metadata": {},
     "output_type": "execute_result"
    },
    {
     "data": {
      "image/png": "[encoded data removed]",
      "text/plain": [
       "<Figure size 640x480 with 2 Axes>"
      ]
     },
     "metadata": {},
     "output_type": "display_data"
    }
   ],
   "source": [
    "plt.subplot(1, 2, 1)\n",
    "sns.barplot(data=mostProfitableDirector, x='director_name', y='revenue', width=0.5)\n",
    "plt.xticks(rotation=90)\n",
    "plt.title(\"Director with their revenue\")\n",
    "plt.xlabel('Director name')\n",
    "plt.ylabel('Revenue')\n",
    "\n",
    "plt.subplot(1, 2, 2)\n",
    "sns.barplot(data=mostProfitableDirector, x='director_name', y='movies')\n",
    "plt.xticks(rotation=90)\n",
    "plt.title(\"How many movies by director\")\n",
    "plt.xlabel('Director name')\n",
    "plt.ylabel('movies count')"
   ]
  },
  {
   "cell_type": "markdown",
   "metadata": {
    "collapsed": false
   },
   "source": [
    "## Question- By doing Director analysis We know Steven Spielberg is the highest revenue, so list the Steven Spielberg movies info"
   ]
  },
  {
   "cell_type": "code",
   "execution_count": 48,
   "metadata": {
    "ExecuteTime": {
     "end_time": "2023-07-01T03:55:35.400219500Z",
     "start_time": "2023-07-01T03:55:35.064323300Z"
    },
    "collapsed": false
   },
   "outputs": [
    {
     "data": {
      "text/html": [
       "<div>\n",
       "<style scoped>\n",
       "    .dataframe tbody tr th:only-of-type {\n",
       "        vertical-align: middle;\n",
       "    }\n",
       "\n",
       "    .dataframe tbody tr th {\n",
       "        vertical-align: top;\n",
       "    }\n",
       "\n",
       "    .dataframe thead th {\n",
       "        text-align: right;\n",
       "    }\n",
       "</style>\n",
       "<table border=\"1\" class=\"dataframe\">\n",
       "  <thead>\n",
       "    <tr style=\"text-align: right;\">\n",
       "      <th></th>\n",
       "      <th>original_title</th>\n",
       "      <th>release_date</th>\n",
       "      <th>budget</th>\n",
       "      <th>revenue</th>\n",
       "      <th>popularity</th>\n",
       "      <th>vote_average</th>\n",
       "    </tr>\n",
       "  </thead>\n",
       "  <tbody>\n",
       "    <tr>\n",
       "      <th>0</th>\n",
       "      <td>The BFG</td>\n",
       "      <td>2016-06-01</td>\n",
       "      <td>140000000</td>\n",
       "      <td>183345589</td>\n",
       "      <td>44</td>\n",
       "      <td>6.0</td>\n",
       "    </tr>\n",
       "    <tr>\n",
       "      <th>1</th>\n",
       "      <td>Bridge of Spies</td>\n",
       "      <td>2015-10-15</td>\n",
       "      <td>40000000</td>\n",
       "      <td>165478348</td>\n",
       "      <td>48</td>\n",
       "      <td>7.2</td>\n",
       "    </tr>\n",
       "    <tr>\n",
       "      <th>2</th>\n",
       "      <td>Lincoln</td>\n",
       "      <td>2012-11-09</td>\n",
       "      <td>65000000</td>\n",
       "      <td>275293450</td>\n",
       "      <td>36</td>\n",
       "      <td>6.7</td>\n",
       "    </tr>\n",
       "    <tr>\n",
       "      <th>3</th>\n",
       "      <td>War Horse</td>\n",
       "      <td>2011-12-25</td>\n",
       "      <td>66000000</td>\n",
       "      <td>177584879</td>\n",
       "      <td>29</td>\n",
       "      <td>7.0</td>\n",
       "    </tr>\n",
       "    <tr>\n",
       "      <th>4</th>\n",
       "      <td>The Adventures of Tintin</td>\n",
       "      <td>2011-10-25</td>\n",
       "      <td>130000000</td>\n",
       "      <td>371940071</td>\n",
       "      <td>89</td>\n",
       "      <td>6.7</td>\n",
       "    </tr>\n",
       "    <tr>\n",
       "      <th>5</th>\n",
       "      <td>Indiana Jones and the Kingdom of the Crystal S...</td>\n",
       "      <td>2008-05-21</td>\n",
       "      <td>185000000</td>\n",
       "      <td>786636033</td>\n",
       "      <td>75</td>\n",
       "      <td>5.7</td>\n",
       "    </tr>\n",
       "    <tr>\n",
       "      <th>6</th>\n",
       "      <td>Munich</td>\n",
       "      <td>2005-12-22</td>\n",
       "      <td>70000000</td>\n",
       "      <td>130358911</td>\n",
       "      <td>29</td>\n",
       "      <td>6.9</td>\n",
       "    </tr>\n",
       "    <tr>\n",
       "      <th>7</th>\n",
       "      <td>War of the Worlds</td>\n",
       "      <td>2005-06-28</td>\n",
       "      <td>132000000</td>\n",
       "      <td>591739379</td>\n",
       "      <td>48</td>\n",
       "      <td>6.2</td>\n",
       "    </tr>\n",
       "    <tr>\n",
       "      <th>8</th>\n",
       "      <td>The Terminal</td>\n",
       "      <td>2004-06-17</td>\n",
       "      <td>60000000</td>\n",
       "      <td>219417255</td>\n",
       "      <td>57</td>\n",
       "      <td>7.0</td>\n",
       "    </tr>\n",
       "    <tr>\n",
       "      <th>9</th>\n",
       "      <td>Catch Me If You Can</td>\n",
       "      <td>2002-12-25</td>\n",
       "      <td>52000000</td>\n",
       "      <td>352114312</td>\n",
       "      <td>73</td>\n",
       "      <td>7.7</td>\n",
       "    </tr>\n",
       "    <tr>\n",
       "      <th>10</th>\n",
       "      <td>Minority Report</td>\n",
       "      <td>2002-06-20</td>\n",
       "      <td>102000000</td>\n",
       "      <td>358372926</td>\n",
       "      <td>65</td>\n",
       "      <td>7.1</td>\n",
       "    </tr>\n",
       "    <tr>\n",
       "      <th>11</th>\n",
       "      <td>A.I. Artificial Intelligence</td>\n",
       "      <td>2001-06-29</td>\n",
       "      <td>100000000</td>\n",
       "      <td>235926552</td>\n",
       "      <td>34</td>\n",
       "      <td>6.8</td>\n",
       "    </tr>\n",
       "    <tr>\n",
       "      <th>12</th>\n",
       "      <td>Saving Private Ryan</td>\n",
       "      <td>1998-07-24</td>\n",
       "      <td>70000000</td>\n",
       "      <td>481840909</td>\n",
       "      <td>76</td>\n",
       "      <td>7.9</td>\n",
       "    </tr>\n",
       "    <tr>\n",
       "      <th>13</th>\n",
       "      <td>Amistad</td>\n",
       "      <td>1997-12-03</td>\n",
       "      <td>36000000</td>\n",
       "      <td>74000000</td>\n",
       "      <td>3</td>\n",
       "      <td>6.8</td>\n",
       "    </tr>\n",
       "    <tr>\n",
       "      <th>14</th>\n",
       "      <td>The Lost World: Jurassic Park</td>\n",
       "      <td>1997-05-23</td>\n",
       "      <td>73000000</td>\n",
       "      <td>229074524</td>\n",
       "      <td>2</td>\n",
       "      <td>6.2</td>\n",
       "    </tr>\n",
       "    <tr>\n",
       "      <th>15</th>\n",
       "      <td>Schindler's List</td>\n",
       "      <td>1993-11-29</td>\n",
       "      <td>22000000</td>\n",
       "      <td>321365567</td>\n",
       "      <td>104</td>\n",
       "      <td>8.3</td>\n",
       "    </tr>\n",
       "    <tr>\n",
       "      <th>16</th>\n",
       "      <td>Jurassic Park</td>\n",
       "      <td>1993-06-11</td>\n",
       "      <td>63000000</td>\n",
       "      <td>920100000</td>\n",
       "      <td>40</td>\n",
       "      <td>7.6</td>\n",
       "    </tr>\n",
       "    <tr>\n",
       "      <th>17</th>\n",
       "      <td>Hook</td>\n",
       "      <td>1991-12-11</td>\n",
       "      <td>70000000</td>\n",
       "      <td>300854823</td>\n",
       "      <td>33</td>\n",
       "      <td>6.6</td>\n",
       "    </tr>\n",
       "    <tr>\n",
       "      <th>18</th>\n",
       "      <td>Indiana Jones and the Last Crusade</td>\n",
       "      <td>1989-05-24</td>\n",
       "      <td>48000000</td>\n",
       "      <td>474171806</td>\n",
       "      <td>80</td>\n",
       "      <td>7.6</td>\n",
       "    </tr>\n",
       "    <tr>\n",
       "      <th>19</th>\n",
       "      <td>The Color Purple</td>\n",
       "      <td>1985-12-18</td>\n",
       "      <td>15000000</td>\n",
       "      <td>146292009</td>\n",
       "      <td>17</td>\n",
       "      <td>7.7</td>\n",
       "    </tr>\n",
       "    <tr>\n",
       "      <th>20</th>\n",
       "      <td>Indiana Jones and the Temple of Doom</td>\n",
       "      <td>1984-05-23</td>\n",
       "      <td>28000000</td>\n",
       "      <td>333000000</td>\n",
       "      <td>66</td>\n",
       "      <td>7.1</td>\n",
       "    </tr>\n",
       "    <tr>\n",
       "      <th>21</th>\n",
       "      <td>Twilight Zone: The Movie</td>\n",
       "      <td>1983-06-24</td>\n",
       "      <td>10000000</td>\n",
       "      <td>29450919</td>\n",
       "      <td>12</td>\n",
       "      <td>6.2</td>\n",
       "    </tr>\n",
       "    <tr>\n",
       "      <th>22</th>\n",
       "      <td>E.T. the Extra-Terrestrial</td>\n",
       "      <td>1982-04-03</td>\n",
       "      <td>10500000</td>\n",
       "      <td>792910554</td>\n",
       "      <td>56</td>\n",
       "      <td>7.3</td>\n",
       "    </tr>\n",
       "    <tr>\n",
       "      <th>23</th>\n",
       "      <td>Raiders of the Lost Ark</td>\n",
       "      <td>1981-06-12</td>\n",
       "      <td>18000000</td>\n",
       "      <td>389925971</td>\n",
       "      <td>68</td>\n",
       "      <td>7.7</td>\n",
       "    </tr>\n",
       "    <tr>\n",
       "      <th>24</th>\n",
       "      <td>1941</td>\n",
       "      <td>1979-12-13</td>\n",
       "      <td>35000000</td>\n",
       "      <td>31755742</td>\n",
       "      <td>10</td>\n",
       "      <td>5.6</td>\n",
       "    </tr>\n",
       "    <tr>\n",
       "      <th>25</th>\n",
       "      <td>Close Encounters of the Third Kind</td>\n",
       "      <td>1977-11-16</td>\n",
       "      <td>20000000</td>\n",
       "      <td>303788635</td>\n",
       "      <td>52</td>\n",
       "      <td>7.2</td>\n",
       "    </tr>\n",
       "    <tr>\n",
       "      <th>26</th>\n",
       "      <td>Jaws</td>\n",
       "      <td>1975-06-18</td>\n",
       "      <td>7000000</td>\n",
       "      <td>470654000</td>\n",
       "      <td>50</td>\n",
       "      <td>7.5</td>\n",
       "    </tr>\n",
       "  </tbody>\n",
       "</table>\n",
       "</div>"
      ],
      "text/plain": [
       "                                       original_title release_date     budget   \n",
       "0                                             The BFG   2016-06-01  140000000  \\\n",
       "1                                     Bridge of Spies   2015-10-15   40000000   \n",
       "2                                             Lincoln   2012-11-09   65000000   \n",
       "3                                           War Horse   2011-12-25   66000000   \n",
       "4                            The Adventures of Tintin   2011-10-25  130000000   \n",
       "5   Indiana Jones and the Kingdom of the Crystal S...   2008-05-21  185000000   \n",
       "6                                              Munich   2005-12-22   70000000   \n",
       "7                                   War of the Worlds   2005-06-28  132000000   \n",
       "8                                        The Terminal   2004-06-17   60000000   \n",
       "9                                 Catch Me If You Can   2002-12-25   52000000   \n",
       "10                                    Minority Report   2002-06-20  102000000   \n",
       "11                       A.I. Artificial Intelligence   2001-06-29  100000000   \n",
       "12                                Saving Private Ryan   1998-07-24   70000000   \n",
       "13                                            Amistad   1997-12-03   36000000   \n",
       "14                      The Lost World: Jurassic Park   1997-05-23   73000000   \n",
       "15                                   Schindler's List   1993-11-29   22000000   \n",
       "16                                      Jurassic Park   1993-06-11   63000000   \n",
       "17                                               Hook   1991-12-11   70000000   \n",
       "18                 Indiana Jones and the Last Crusade   1989-05-24   48000000   \n",
       "19                                   The Color Purple   1985-12-18   15000000   \n",
       "20               Indiana Jones and the Temple of Doom   1984-05-23   28000000   \n",
       "21                           Twilight Zone: The Movie   1983-06-24   10000000   \n",
       "22                         E.T. the Extra-Terrestrial   1982-04-03   10500000   \n",
       "23                            Raiders of the Lost Ark   1981-06-12   18000000   \n",
       "24                                               1941   1979-12-13   35000000   \n",
       "25                 Close Encounters of the Third Kind   1977-11-16   20000000   \n",
       "26                                               Jaws   1975-06-18    7000000   \n",
       "\n",
       "      revenue  popularity  vote_average  \n",
       "0   183345589          44           6.0  \n",
       "1   165478348          48           7.2  \n",
       "2   275293450          36           6.7  \n",
       "3   177584879          29           7.0  \n",
       "4   371940071          89           6.7  \n",
       "5   786636033          75           5.7  \n",
       "6   130358911          29           6.9  \n",
       "7   591739379          48           6.2  \n",
       "8   219417255          57           7.0  \n",
       "9   352114312          73           7.7  \n",
       "10  358372926          65           7.1  \n",
       "11  235926552          34           6.8  \n",
       "12  481840909          76           7.9  \n",
       "13   74000000           3           6.8  \n",
       "14  229074524           2           6.2  \n",
       "15  321365567         104           8.3  \n",
       "16  920100000          40           7.6  \n",
       "17  300854823          33           6.6  \n",
       "18  474171806          80           7.6  \n",
       "19  146292009          17           7.7  \n",
       "20  333000000          66           7.1  \n",
       "21   29450919          12           6.2  \n",
       "22  792910554          56           7.3  \n",
       "23  389925971          68           7.7  \n",
       "24   31755742          10           5.6  \n",
       "25  303788635          52           7.2  \n",
       "26  470654000          50           7.5  "
      ]
     },
     "execution_count": 48,
     "metadata": {},
     "output_type": "execute_result"
    }
   ],
   "source": [
    "cur.execute(\n",
    "    'SELECT original_title, release_date, budget, revenue, popularity, vote_average FROM directors JOIN movies ON directors.id = movies.director_id WHERE name = \"Steven Spielberg\" ORDER BY release_date DESC')\n",
    "moviesByStevenSpielberg = cur.fetchall()\n",
    "moviesByStevenSpielberg = pd.DataFrame(moviesByStevenSpielberg,\n",
    "                                       columns=['original_title', 'release_date', 'budget', 'revenue', 'popularity',\n",
    "                                                'vote_average'])\n",
    "moviesByStevenSpielberg"
   ]
  },
  {
   "cell_type": "code",
   "execution_count": 49,
   "metadata": {
    "ExecuteTime": {
     "end_time": "2023-07-01T03:55:35.789548400Z",
     "start_time": "2023-07-01T03:55:35.080969Z"
    },
    "collapsed": false
   },
   "outputs": [
    {
     "data": {
      "text/plain": [
       "Text(0.5, 0, 'revenue')"
      ]
     },
     "execution_count": 49,
     "metadata": {},
     "output_type": "execute_result"
    },
    {
     "data": {
      "image/png": "[encoded data removed]",
      "text/plain": [
       "<Figure size 640x480 with 1 Axes>"
      ]
     },
     "metadata": {},
     "output_type": "display_data"
    }
   ],
   "source": [
    "sns.barplot(data=moviesByStevenSpielberg, y='original_title', x='revenue')\n",
    "plt.title(\"The Movies by Steven Spielberg\")\n",
    "plt.ylabel(\"Name of movie\")\n",
    "plt.xlabel('revenue')"
   ]
  },
  {
   "cell_type": "code",
   "execution_count": null,
   "metadata": {
    "ExecuteTime": {
     "end_time": "2023-07-01T03:55:35.790548Z",
     "start_time": "2023-07-01T03:55:35.634384200Z"
    },
    "collapsed": false
   },
   "outputs": [],
   "source": []
  }
 ],
 "metadata": {
  "kernelspec": {
   "display_name": "Python 3",
   "language": "python",
   "name": "python3"
  },
  "language_info": {
   "codemirror_mode": {
    "name": "ipython",
    "version": 3
   },
   "file_extension": ".py",
   "mimetype": "text/x-python",
   "name": "python",
   "nbconvert_exporter": "python",
   "pygments_lexer": "ipython3",
   "version": "3.11.5"
  }
 },
 "nbformat": 4,
 "nbformat_minor": 0
}
